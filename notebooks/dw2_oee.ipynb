{
 "cells": [
  {
   "cell_type": "markdown",
   "id": "c69dc2a8",
   "metadata": {},
   "source": [
    "## DW #2 "
   ]
  },
  {
   "cell_type": "markdown",
   "id": "1fd1617d",
   "metadata": {},
   "source": [
    "### Contexte et setup (imports, reproductibilité)"
   ]
  },
  {
   "cell_type": "code",
   "execution_count": 18,
   "id": "688471c7",
   "metadata": {},
   "outputs": [
    {
     "name": "stdout",
     "output_type": "stream",
     "text": [
      "dates: 2025-01-01 00:00:00 → 2025-09-30 00:00:00\n",
      "nombre de jours: 273\n"
     ]
    }
   ],
   "source": [
    "import numpy as np\n",
    "import pandas as pd\n",
    "from datetime import datetime, timedelta\n",
    "from pathlib import Path\n",
    "import matplotlib.pyplot as plt\n",
    "\n",
    "rng = np.random.default_rng(7)\n",
    "\n",
    "data_root = Path(\"../data\")\n",
    "for sub in [\"raw\", \"staging\", \"dim\", \"fact\", \"output\"]:\n",
    "    (data_root / sub).mkdir(parents=True, exist_ok=True)\n",
    "\n",
    "start, end = datetime(2025, 1, 1), datetime(2025, 9, 30)\n",
    "dates = pd.date_range(start, end, freq=\"D\")\n",
    "\n",
    "print(\"dates:\", dates.min(), \"→\", dates.max())\n",
    "print(\"nombre de jours:\", len(dates))\n"
   ]
  },
  {
   "cell_type": "markdown",
   "id": "461591f9",
   "metadata": {},
   "source": [
    "### Génération RAW : référentiels (machines, produits, shifts)"
   ]
  },
  {
   "cell_type": "code",
   "execution_count": 19,
   "id": "e7c9f4a5",
   "metadata": {},
   "outputs": [
    {
     "name": "stdout",
     "output_type": "stream",
     "text": [
      "raw_machines.head():\n",
      "   machine_id machine_name       area install_date\n",
      "0           1          M01  Packaging   2022-12-11\n",
      "1           2          M02    Cutting   2022-08-17\n",
      "2           3          M03    Cutting   2022-09-07\n",
      "3           4          M04  Packaging   2022-11-24\n",
      "4           5          M05   Assembly   2022-07-31 \n",
      "\n",
      "raw_products.head():\n",
      "      sku product_name  ideal_rate_per_min\n",
      "0  SKU001     Prod 001                 1.5\n",
      "1  SKU002     Prod 002                 0.8\n",
      "2  SKU003     Prod 003                 1.5\n",
      "3  SKU004     Prod 004                 0.8\n",
      "4  SKU005     Prod 005                 1.0 \n",
      "\n",
      "raw_shifts.head():\n",
      "   shift_id shift_name  planned_minutes\n",
      "0         1    Shift A              480\n",
      "1         2    Shift B              480\n",
      "2         3    Shift C              480 \n",
      "\n"
     ]
    }
   ],
   "source": [
    "areas = [\"Cutting\", \"Assembly\", \"Packaging\"]\n",
    "\n",
    "raw_machines = pd.DataFrame({\n",
    "    \"machine_id\": range(1, 16),\n",
    "    \"machine_name\": [f\"M{i:02d}\" for i in range(1, 16)],\n",
    "    \"area\": np.random.choice(areas, 15),\n",
    "    \"install_date\": pd.to_datetime(\"2022-01-01\") + pd.to_timedelta(\n",
    "        rng.integers(0, 365, 15), unit=\"D\"\n",
    "    )\n",
    "})\n",
    "\n",
    "raw_products = pd.DataFrame({\n",
    "    \"sku\": [f\"SKU{i:03d}\" for i in range(1, 41)],\n",
    "    \"product_name\": [f\"Prod {i:03d}\" for i in range(1, 41)],\n",
    "    \"ideal_rate_per_min\": rng.choice([0.8, 1.0, 1.2, 1.5], 40)\n",
    "})\n",
    "\n",
    "raw_shifts = pd.DataFrame({\n",
    "    \"shift_id\": [1, 2, 3],\n",
    "    \"shift_name\": [\"Shift A\", \"Shift B\", \"Shift C\"],\n",
    "    \"planned_minutes\": [480, 480, 480]\n",
    "})\n",
    "\n",
    "print(\"raw_machines.head():\")\n",
    "print(raw_machines.head(), \"\\n\")\n",
    "print(\"raw_products.head():\")\n",
    "print(raw_products.head(), \"\\n\")\n",
    "print(\"raw_shifts.head():\")\n",
    "print(raw_shifts.head(), \"\\n\")\n",
    "\n"
   ]
  },
  {
   "cell_type": "markdown",
   "id": "7ea626b4",
   "metadata": {},
   "source": [
    "### Génération RAW : production et arrêts (downtime)"
   ]
  },
  {
   "cell_type": "code",
   "execution_count": 20,
   "id": "967193d9",
   "metadata": {},
   "outputs": [
    {
     "name": "stdout",
     "output_type": "stream",
     "text": [
      "raw_production.shape: (10380, 6)\n",
      "   prod_date  machine_id  shift_id     sku  units_good  units_scrap\n",
      "0 2025-01-01           1         1  SKU037         464           35\n",
      "1 2025-01-01           1         2  SKU016         348           51\n",
      "2 2025-01-01           1         3  SKU001         781           80\n",
      "3 2025-01-01           2         1  SKU029         421           30\n",
      "4 2025-01-01           2         2  SKU001         598           13 \n",
      "\n",
      "raw_downtime.shape: (4217, 4)\n",
      "   down_date  machine_id failure_mode  minutes_down\n",
      "0 2025-01-01           1        Setup            25\n",
      "1 2025-01-01           1    Breakdown            25\n",
      "2 2025-01-01           3        Setup            51\n",
      "3 2025-01-01           4    Breakdown            22\n",
      "4 2025-01-01           4     Material            72 \n",
      "\n",
      "RAW CSV enregistrés dans: C:\\Users\\24160\\Desktop\\TP\\data\\raw\n"
     ]
    }
   ],
   "source": [
    "prod_rows = []\n",
    "for d in dates:\n",
    "    for m in raw_machines[\"machine_id\"]:\n",
    "        for s in raw_shifts[\"shift_id\"]:\n",
    "            if rng.random() < 0.85:\n",
    "                sku = rng.choice(raw_products[\"sku\"])\n",
    "                good = rng.integers(200, 800)\n",
    "                scrap = rng.integers(0, int(good * 0.15))\n",
    "                prod_rows.append([d, m, s, sku, good, scrap])\n",
    "\n",
    "raw_production = pd.DataFrame(\n",
    "    prod_rows,\n",
    "    columns=[\"prod_date\", \"machine_id\", \"shift_id\", \"sku\", \"units_good\", \"units_scrap\"]\n",
    ")\n",
    "print(\"raw_production.shape:\", raw_production.shape)\n",
    "print(raw_production.head(), \"\\n\")\n",
    "\n",
    "failure_modes = [\"Setup\", \"Breakdown\", \"Quality\", \"Material\", \"PlannedMaintenance\"]\n",
    "\n",
    "down_rows = []\n",
    "for d in dates:\n",
    "    for m in raw_machines[\"machine_id\"]:\n",
    "        k = rng.integers(0, 3)\n",
    "        for _ in range(k):\n",
    "            minutes = rng.integers(10, 90)\n",
    "            fm = rng.choice(failure_modes, p=[0.25, 0.35, 0.15, 0.15, 0.10])\n",
    "            down_rows.append([d, m, fm, minutes])\n",
    "\n",
    "raw_downtime = pd.DataFrame(\n",
    "    down_rows,\n",
    "    columns=[\"down_date\", \"machine_id\", \"failure_mode\", \"minutes_down\"]\n",
    ")\n",
    "print(\"raw_downtime.shape:\", raw_downtime.shape)\n",
    "print(raw_downtime.head(), \"\\n\")\n",
    "\n",
    "raw_path = data_root / \"raw\"\n",
    "raw_machines.to_csv(raw_path / \"raw_machines.csv\", index=False)\n",
    "raw_products.to_csv(raw_path / \"raw_products.csv\", index=False)\n",
    "raw_shifts.to_csv(raw_path / \"raw_shifts.csv\", index=False)\n",
    "raw_production.to_csv(raw_path / \"raw_production.csv\", index=False)\n",
    "raw_downtime.to_csv(raw_path / \"raw_downtime.csv\", index=False)\n",
    "print(\"RAW CSV enregistrés dans:\", raw_path.resolve())\n",
    "\n"
   ]
  },
  {
   "cell_type": "markdown",
   "id": "53a261f5",
   "metadata": {},
   "source": [
    "### Staging : nettoyage standardisation"
   ]
  },
  {
   "cell_type": "code",
   "execution_count": 21,
   "id": "73f255d1",
   "metadata": {},
   "outputs": [
    {
     "name": "stdout",
     "output_type": "stream",
     "text": [
      "stg_machines.head():\n",
      "   machine_id machine_name       area install_date\n",
      "0           1          M01  Packaging   2022-12-11\n",
      "1           2          M02    Cutting   2022-08-17\n",
      "2           3          M03    Cutting   2022-09-07\n",
      "3           4          M04  Packaging   2022-11-24\n",
      "4           5          M05   Assembly   2022-07-31 \n",
      "\n",
      "stg_products.head():\n",
      "      sku product_name  ideal_rate_per_min\n",
      "0  SKU001     Prod 001                 1.5\n",
      "1  SKU002     Prod 002                 0.8\n",
      "2  SKU003     Prod 003                 1.5\n",
      "3  SKU004     Prod 004                 0.8\n",
      "4  SKU005     Prod 005                 1.0 \n",
      "\n",
      "stg_production.head():\n",
      "   prod_date  machine_id  shift_id     sku  units_good  units_scrap  \\\n",
      "0 2025-01-01           1         1  SKU037         464           35   \n",
      "1 2025-01-01           1         2  SKU016         348           51   \n",
      "2 2025-01-01           1         3  SKU001         781           80   \n",
      "3 2025-01-01           2         1  SKU029         421           30   \n",
      "4 2025-01-01           2         2  SKU001         598           13   \n",
      "\n",
      "   units_total  \n",
      "0          499  \n",
      "1          399  \n",
      "2          861  \n",
      "3          451  \n",
      "4          611   \n",
      "\n",
      "stg_downtime.head():\n",
      "   down_date  machine_id failure_mode  minutes_down\n",
      "0 2025-01-01           1        Setup            25\n",
      "1 2025-01-01           1    Breakdown            25\n",
      "2 2025-01-01           3        Setup            51\n",
      "3 2025-01-01           4    Breakdown            22\n",
      "4 2025-01-01           4     Material            72 \n",
      "\n",
      "STAGING CSV enregistrés dans: C:\\Users\\24160\\Desktop\\TP\\data\\staging\n"
     ]
    }
   ],
   "source": [
    "stg_machines = raw_machines.assign(\n",
    "    machine_name = raw_machines[\"machine_name\"].str.upper(),\n",
    "    area = raw_machines[\"area\"].str.title()\n",
    ")\n",
    "\n",
    "stg_products = raw_products.assign(\n",
    "    product_name = raw_products[\"product_name\"].str.title()\n",
    ")\n",
    "\n",
    "stg_shifts = raw_shifts.copy()\n",
    "\n",
    "stg_production = raw_production.assign(\n",
    "    prod_date = pd.to_datetime(raw_production[\"prod_date\"]),\n",
    "    units_total = lambda df: df[\"units_good\"] + df[\"units_scrap\"]\n",
    ")\n",
    "\n",
    "stg_downtime = raw_downtime.assign(\n",
    "    down_date = pd.to_datetime(raw_downtime[\"down_date\"]),\n",
    "    failure_mode = raw_downtime[\"failure_mode\"].str.replace(\"_\", \" \").str.title()\n",
    ")\n",
    "\n",
    "print(\"stg_machines.head():\")\n",
    "print(stg_machines.head(), \"\\n\")\n",
    "print(\"stg_products.head():\")\n",
    "print(stg_products.head(), \"\\n\")\n",
    "print(\"stg_production.head():\")\n",
    "print(stg_production.head(), \"\\n\")\n",
    "print(\"stg_downtime.head():\")\n",
    "print(stg_downtime.head(), \"\\n\")\n",
    "\n",
    "# 保存 STAGING\n",
    "stg_path = data_root / \"staging\"\n",
    "stg_machines.to_csv(stg_path / \"stg_machines.csv\", index=False)\n",
    "stg_products.to_csv(stg_path / \"stg_products.csv\", index=False)\n",
    "stg_shifts.to_csv(stg_path / \"stg_shifts.csv\", index=False)\n",
    "stg_production.to_csv(stg_path / \"stg_production.csv\", index=False)\n",
    "stg_downtime.to_csv(stg_path / \"stg_downtime.csv\", index=False)\n",
    "print(\"STAGING CSV enregistrés dans:\", stg_path.resolve())\n"
   ]
  },
  {
   "cell_type": "markdown",
   "id": "d8494d0f",
   "metadata": {},
   "source": [
    "### Dimensions : dim_date, dim_machine, dim_product,dim_shift"
   ]
  },
  {
   "cell_type": "code",
   "execution_count": 22,
   "id": "661da554",
   "metadata": {},
   "outputs": [
    {
     "name": "stdout",
     "output_type": "stream",
     "text": [
      "dim_date.head():\n",
      "        date  date_sk  day  month  quarter  year  dow\n",
      "0 2025-01-01        1    1      1        1  2025    2\n",
      "1 2025-01-02        2    2      1        1  2025    3\n",
      "2 2025-01-03        3    3      1        1  2025    4\n",
      "3 2025-01-04        4    4      1        1  2025    5\n",
      "4 2025-01-05        5    5      1        1  2025    6 \n",
      "\n",
      "dim_machine.head():\n",
      "   machine_id machine_name       area install_date  machine_sk\n",
      "0           1          M01  Packaging   2022-12-11           1\n",
      "1           2          M02    Cutting   2022-08-17           2\n",
      "2           3          M03    Cutting   2022-09-07           3\n",
      "3           4          M04  Packaging   2022-11-24           4\n",
      "4           5          M05   Assembly   2022-07-31           5 \n",
      "\n",
      "dim_product.head():\n",
      "      sku product_name  ideal_rate_per_min  product_sk\n",
      "0  SKU001     Prod 001                 1.5           1\n",
      "1  SKU002     Prod 002                 0.8           2\n",
      "2  SKU003     Prod 003                 1.5           3\n",
      "3  SKU004     Prod 004                 0.8           4\n",
      "4  SKU005     Prod 005                 1.0           5 \n",
      "\n",
      "dim_shift.head():\n",
      "   shift_id shift_name  planned_minutes  shift_sk\n",
      "0         1    Shift A              480         1\n",
      "1         2    Shift B              480         2\n",
      "2         3    Shift C              480         3 \n",
      "\n",
      "Dimensions CSV enregistrés dans: C:\\Users\\24160\\Desktop\\TP\\data\\dim\n"
     ]
    }
   ],
   "source": [
    "dim_date = pd.DataFrame({\n",
    "    \"date\": pd.date_range(\n",
    "        stg_production[\"prod_date\"].min(),\n",
    "        stg_production[\"prod_date\"].max(),\n",
    "        freq=\"D\"\n",
    "    )\n",
    "})\n",
    "dim_date[\"date_sk\"] = np.arange(1, len(dim_date) + 1)\n",
    "dim_date = dim_date.assign(\n",
    "    day = dim_date[\"date\"].dt.day,\n",
    "    month = dim_date[\"date\"].dt.month,\n",
    "    quarter = dim_date[\"date\"].dt.quarter,\n",
    "    year = dim_date[\"date\"].dt.year,\n",
    "    dow = dim_date[\"date\"].dt.dayofweek\n",
    ")\n",
    "\n",
    "dim_machine = stg_machines.drop_duplicates(\"machine_id\").reset_index(drop=True)\n",
    "dim_machine[\"machine_sk\"] = np.arange(1, len(dim_machine) + 1)\n",
    "\n",
    "dim_product = stg_products.drop_duplicates(\"sku\").reset_index(drop=True)\n",
    "dim_product[\"product_sk\"] = np.arange(1, len(dim_product) + 1)\n",
    "\n",
    "dim_shift = stg_shifts.copy()\n",
    "dim_shift[\"shift_sk\"] = dim_shift[\"shift_id\"]\n",
    "\n",
    "print(\"dim_date.head():\")\n",
    "print(dim_date.head(), \"\\n\")\n",
    "print(\"dim_machine.head():\")\n",
    "print(dim_machine.head(), \"\\n\")\n",
    "print(\"dim_product.head():\")\n",
    "print(dim_product.head(), \"\\n\")\n",
    "print(\"dim_shift.head():\")\n",
    "print(dim_shift.head(), \"\\n\")\n",
    "\n",
    "# 保存 DIM\n",
    "dim_path = data_root / \"dim\"\n",
    "dim_date.to_csv(dim_path / \"dim_date.csv\", index=False)\n",
    "dim_machine.to_csv(dim_path / \"dim_machine.csv\", index=False)\n",
    "dim_product.to_csv(dim_path / \"dim_product.csv\", index=False)\n",
    "dim_shift.to_csv(dim_path / \"dim_shift.csv\", index=False)\n",
    "print(\"Dimensions CSV enregistrés dans:\", dim_path.resolve())\n",
    "\n"
   ]
  },
  {
   "cell_type": "markdown",
   "id": "e1b88bf3",
   "metadata": {},
   "source": [
    "### Tables de faits : production + downtime"
   ]
  },
  {
   "cell_type": "code",
   "execution_count": 23,
   "id": "d873045a",
   "metadata": {},
   "outputs": [
    {
     "name": "stdout",
     "output_type": "stream",
     "text": [
      "fact_production.head():\n",
      "   date_sk  machine_sk  shift_sk  product_sk  units_good  units_scrap  \\\n",
      "0        1           1         1          37         464           35   \n",
      "1        1           1         2          16         348           51   \n",
      "2        1           1         3           1         781           80   \n",
      "3        1           2         1          29         421           30   \n",
      "4        1           2         2           1         598           13   \n",
      "\n",
      "   units_total  ideal_rate_per_min  planned_minutes  \n",
      "0          499                 1.2              480  \n",
      "1          399                 1.2              480  \n",
      "2          861                 1.5              480  \n",
      "3          451                 0.8              480  \n",
      "4          611                 1.5              480   \n",
      "\n",
      "fact_downtime.head():\n",
      "   date_sk  machine_sk failure_mode  minutes_down\n",
      "0        1           1        Setup            25\n",
      "1        1           1    Breakdown            25\n",
      "2        1           3        Setup            51\n",
      "3        1           4    Breakdown            22\n",
      "4        1           4     Material            72 \n",
      "\n",
      "Faits CSV enregistrés dans: C:\\Users\\24160\\Desktop\\TP\\data\\fact\n"
     ]
    }
   ],
   "source": [
    "prod = (\n",
    "    stg_production\n",
    "    .merge(dim_date[[\"date\", \"date_sk\"]], left_on=\"prod_date\", right_on=\"date\")\n",
    "    .drop(columns=[\"date\"])\n",
    "    .merge(dim_machine[[\"machine_id\", \"machine_sk\"]], on=\"machine_id\")\n",
    "    .merge(dim_product[[\"sku\", \"product_sk\", \"ideal_rate_per_min\"]], on=\"sku\")\n",
    "    .merge(dim_shift[[\"shift_id\", \"shift_sk\", \"planned_minutes\"]], on=\"shift_id\")\n",
    ")\n",
    "\n",
    "fact_production = prod[[\n",
    "    \"date_sk\", \"machine_sk\", \"shift_sk\", \"product_sk\",\n",
    "    \"units_good\", \"units_scrap\", \"units_total\",\n",
    "    \"ideal_rate_per_min\", \"planned_minutes\"\n",
    "]]\n",
    "print(\"fact_production.head():\")\n",
    "print(fact_production.head(), \"\\n\")\n",
    "\n",
    "down = (\n",
    "    stg_downtime\n",
    "    .merge(dim_date[[\"date\", \"date_sk\"]], left_on=\"down_date\", right_on=\"date\")\n",
    "    .drop(columns=[\"date\"])\n",
    "    .merge(dim_machine[[\"machine_id\", \"machine_sk\"]], on=\"machine_id\")\n",
    ")\n",
    "\n",
    "fact_downtime = down[[\"date_sk\", \"machine_sk\", \"failure_mode\", \"minutes_down\"]]\n",
    "print(\"fact_downtime.head():\")\n",
    "print(fact_downtime.head(), \"\\n\")\n",
    "\n",
    "fact_path = data_root / \"fact\"\n",
    "fact_production.to_csv(fact_path / \"fact_production.csv\", index=False)\n",
    "fact_downtime.to_csv(fact_path / \"fact_downtime.csv\", index=False)\n",
    "print(\"Faits CSV enregistrés dans:\", fact_path.resolve())\n"
   ]
  },
  {
   "cell_type": "markdown",
   "id": "ae56c034",
   "metadata": {},
   "source": [
    "### Agrégations / OEE + Graphique"
   ]
  },
  {
   "cell_type": "code",
   "execution_count": 24,
   "id": "1b57e6af",
   "metadata": {},
   "outputs": [
    {
     "name": "stdout",
     "output_type": "stream",
     "text": [
      "oee_month.head():\n",
      "   year  month       oee\n",
      "0  2025      1  0.872958\n",
      "1  2025      2  0.867475\n",
      "2  2025      3  0.877200\n",
      "3  2025      4  0.872956\n",
      "4  2025      5  0.873211 \n",
      "\n"
     ]
    },
    {
     "data": {
      "image/png": "[encoded data removed]",
      "text/plain": [
       "<Figure size 640x480 with 1 Axes>"
      ]
     },
     "metadata": {},
     "output_type": "display_data"
    },
    {
     "name": "stdout",
     "output_type": "stream",
     "text": [
      "Graphique enregistré dans: C:\\Users\\24160\\Desktop\\TP\\data\\output\n"
     ]
    }
   ],
   "source": [
    "daily_prod = (\n",
    "    fact_production\n",
    "    .merge(dim_date[[\"date_sk\", \"year\", \"month\", \"date\"]], on=\"date_sk\")\n",
    "    .groupby([\"date\", \"year\", \"month\"], as_index=False)\n",
    "    .agg(\n",
    "        units_good=(\"units_good\", \"sum\"),\n",
    "        units_total=(\"units_total\", \"sum\"),\n",
    "        planned_minutes=(\"planned_minutes\", \"sum\"),\n",
    "        ideal_rate=(\"ideal_rate_per_min\", \"mean\")  \n",
    "    )\n",
    ")\n",
    "\n",
    "daily_down = (\n",
    "    fact_downtime\n",
    "    .merge(dim_date[[\"date_sk\", \"date\"]], on=\"date_sk\")\n",
    "    .groupby(\"date\", as_index=False)[\"minutes_down\"].sum()\n",
    ")\n",
    "\n",
    "daily = daily_prod.merge(daily_down, on=\"date\", how=\"left\").fillna({\"minutes_down\": 0})\n",
    "\n",
    "daily[\"availability\"] = (\n",
    "    (daily[\"planned_minutes\"] - daily[\"minutes_down\"]) / daily[\"planned_minutes\"]\n",
    ")\n",
    "runtime = (daily[\"planned_minutes\"] - daily[\"minutes_down\"]).clip(lower=1)\n",
    "daily[\"performance\"] = (\n",
    "    (daily[\"units_total\"] / (daily[\"ideal_rate\"] * runtime)).clip(upper=1)\n",
    ")\n",
    "daily[\"quality\"] = (\n",
    "    (daily[\"units_good\"] / daily[\"units_total\"]).replace([np.inf, np.nan], 0)\n",
    ")\n",
    "daily[\"oee\"] = (\n",
    "    (daily[\"availability\"] * daily[\"performance\"] * daily[\"quality\"]).fillna(0)\n",
    ")\n",
    "\n",
    "oee_month = (\n",
    "    daily.groupby([\"year\", \"month\"], as_index=False)\n",
    "    .agg(oee=(\"oee\", \"mean\"))\n",
    ")\n",
    "\n",
    "print(\"oee_month.head():\")\n",
    "print(oee_month.head(), \"\\n\")\n",
    "\n",
    "x = range(len(oee_month))\n",
    "labels = [f\"{int(y)}-{int(m):02d}\" for y, m in zip(oee_month[\"year\"], oee_month[\"month\"])]\n",
    "\n",
    "plt.figure()\n",
    "plt.plot(x, oee_month[\"oee\"], marker=\"o\")\n",
    "plt.title(\"OEE mensuel (exemple)\")\n",
    "plt.xlabel(\"Mois\")\n",
    "plt.ylabel(\"OEE\")\n",
    "plt.ylim(0, 1)\n",
    "plt.xticks(x, labels, rotation=45, ha=\"right\")\n",
    "plt.tight_layout()\n",
    "\n",
    "output_path = data_root / \"output\"\n",
    "plt.savefig(output_path / \"monthly_oee.png\")\n",
    "plt.show()\n",
    "print(\"Graphique enregistré dans:\", output_path.resolve())\n"
   ]
  },
  {
   "cell_type": "markdown",
   "id": "689ad36a",
   "metadata": {},
   "source": [
    "### TP : exercices proposés"
   ]
  },
  {
   "cell_type": "markdown",
   "id": "61a03b2e",
   "metadata": {},
   "source": [
    "##### 1. Calculer l’OEE par machine et par zone (area). Identifier les 5 machines les moins performantes"
   ]
  },
  {
   "cell_type": "code",
   "execution_count": 25,
   "id": "baacab28",
   "metadata": {},
   "outputs": [
    {
     "name": "stdout",
     "output_type": "stream",
     "text": [
      "Aperçu du calcul OEE par machine :\n",
      "  machine_name       area      dispo  perf      qual        oee\n",
      "0          M01  Packaging -27.687500   1.0  0.931965 -25.803775\n",
      "1          M02    Cutting -25.166667   1.0  0.930534 -23.418427\n",
      "2          M03    Cutting -26.468750   1.0  0.932335 -24.677754\n",
      "3          M04  Packaging -28.987500   1.0  0.931500 -27.001845\n",
      "4          M05   Assembly -32.872917   1.0  0.931946 -30.635783 \n",
      "\n",
      "OEE moyen par zone :\n",
      "        area    oee_moy  dispo_moy  perf_moy  qual_moy\n",
      "1    Cutting -24.130685 -25.907292       1.0  0.931428\n",
      "2  Packaging -26.202728 -28.135417       1.0  0.931306\n",
      "0   Assembly -27.498954 -29.531771       1.0  0.931146 \n",
      "\n",
      "Les 5 machines les moins performantes :\n",
      "   machine_name       area        oee\n",
      "4           M05   Assembly -30.635783\n",
      "11          M12  Packaging -28.208787\n",
      "7           M08  Packaging -27.823663\n",
      "6           M07   Assembly -27.740620\n",
      "3           M04  Packaging -27.001845\n"
     ]
    }
   ],
   "source": [
    "prod_j = fact_production.merge(dim_machine[[\"machine_sk\", \"machine_name\", \"area\"]], on=\"machine_sk\")\n",
    "down_j = fact_downtime.merge(dim_machine[[\"machine_sk\", \"machine_name\", \"area\"]], on=\"machine_sk\")\n",
    "\n",
    "\n",
    "down_m = down_j.groupby(\"machine_sk\", as_index=False)[\"minutes_down\"].sum()\n",
    "\n",
    "df = prod_j.merge(down_m, on=\"machine_sk\", how=\"left\").fillna({\"minutes_down\": 0})\n",
    "\n",
    "agg_m = (df.groupby([\"machine_sk\", \"machine_name\", \"area\"], as_index=False)\n",
    "         .agg(units_good=(\"units_good\", \"sum\"),\n",
    "              units_total=(\"units_total\", \"sum\"),\n",
    "              planned_minutes=(\"planned_minutes\", \"sum\"),\n",
    "              ideal_rate=(\"ideal_rate_per_min\", \"mean\"),\n",
    "              minutes_down=(\"minutes_down\", \"sum\")))\n",
    "\n",
    "agg_m[\"dispo\"] = (agg_m[\"planned_minutes\"] - agg_m[\"minutes_down\"]) / agg_m[\"planned_minutes\"]\n",
    "runtime = (agg_m[\"planned_minutes\"] - agg_m[\"minutes_down\"]).clip(lower=1)\n",
    "agg_m[\"perf\"] = (agg_m[\"units_total\"] / (agg_m[\"ideal_rate\"] * runtime)).clip(upper=1)\n",
    "agg_m[\"qual\"] = (agg_m[\"units_good\"] / agg_m[\"units_total\"]).replace([np.inf, np.nan], 0)\n",
    "agg_m[\"oee\"] = (agg_m[\"dispo\"] * agg_m[\"perf\"] * agg_m[\"qual\"]).fillna(0)\n",
    "\n",
    "print(\"Aperçu du calcul OEE par machine :\")\n",
    "print(agg_m[[\"machine_name\", \"area\", \"dispo\", \"perf\", \"qual\", \"oee\"]].head(), \"\\n\")\n",
    "\n",
    "agg_zone = (agg_m.groupby(\"area\", as_index=False)\n",
    "            .agg(oee_moy=(\"oee\", \"mean\"),\n",
    "                 dispo_moy=(\"dispo\", \"mean\"),\n",
    "                 perf_moy=(\"perf\", \"mean\"),\n",
    "                 qual_moy=(\"qual\", \"mean\"))\n",
    "            .sort_values(\"oee_moy\", ascending=False))\n",
    "\n",
    "print(\"OEE moyen par zone :\")\n",
    "print(agg_zone, \"\\n\")\n",
    "\n",
    "top5 = agg_m.sort_values(\"oee\", ascending=True).head(5)\n",
    "print(\"Les 5 machines les moins performantes :\")\n",
    "print(top5[[\"machine_name\", \"area\", \"oee\"]])\n"
   ]
  },
  {
   "cell_type": "markdown",
   "id": "d1e3c762",
   "metadata": {},
   "source": [
    "##### 2. Décomposer l’OEE en A/P/Q par mois et tracer 3 courbes."
   ]
  },
  {
   "cell_type": "code",
   "execution_count": 26,
   "id": "3e2b2a7f",
   "metadata": {},
   "outputs": [
    {
     "name": "stdout",
     "output_type": "stream",
     "text": [
      "Aperçu du calcul mensuel :\n",
      "   year  month         A    P         Q       OEE\n",
      "0  2025      1  0.956958  1.0  0.931821  0.891714\n",
      "1  2025      2  0.955254  1.0  0.932273  0.890557\n",
      "2  2025      3  0.960046  1.0  0.930437  0.893262\n",
      "3  2025      4  0.957262  1.0  0.929827  0.890088\n",
      "4  2025      5  0.959492  1.0  0.930845  0.893138\n"
     ]
    }
   ],
   "source": [
    "dfj = fact_production.merge(dim_date[[\"date_sk\", \"year\", \"month\", \"date\"]], on=\"date_sk\")\n",
    "\n",
    "mensuel = (\n",
    "    dfj.groupby([\"year\", \"month\"], as_index=False)\n",
    "    .agg(\n",
    "        units_good=(\"units_good\", \"sum\"),\n",
    "        units_total=(\"units_total\", \"sum\"),\n",
    "        planned_minutes=(\"planned_minutes\", \"sum\"),\n",
    "        ideal_rate=(\"ideal_rate_per_min\", \"mean\")\n",
    "    )\n",
    ")\n",
    "\n",
    "down_mensuel = (\n",
    "    fact_downtime.merge(dim_date[[\"date_sk\", \"year\", \"month\"]], on=\"date_sk\")\n",
    "    .groupby([\"year\", \"month\"], as_index=False)[\"minutes_down\"]\n",
    "    .sum()\n",
    ")\n",
    "\n",
    "mensuel = mensuel.merge(down_mensuel, on=[\"year\", \"month\"], how=\"left\").fillna({\"minutes_down\": 0})\n",
    "\n",
    "mensuel[\"A\"] = (mensuel[\"planned_minutes\"] - mensuel[\"minutes_down\"]) / mensuel[\"planned_minutes\"]\n",
    "runtime = (mensuel[\"planned_minutes\"] - mensuel[\"minutes_down\"]).clip(lower=1)\n",
    "mensuel[\"P\"] = (mensuel[\"units_total\"] / (mensuel[\"ideal_rate\"] * runtime)).clip(upper=1)\n",
    "mensuel[\"Q\"] = (mensuel[\"units_good\"] / mensuel[\"units_total\"]).replace([np.inf, np.nan], 0)\n",
    "mensuel[\"OEE\"] = (mensuel[\"A\"] * mensuel[\"P\"] * mensuel[\"Q\"]).fillna(0)\n",
    "\n",
    "print(\"Aperçu du calcul mensuel :\")\n",
    "print(mensuel[[\"year\", \"month\", \"A\", \"P\", \"Q\", \"OEE\"]].head())\n"
   ]
  },
  {
   "cell_type": "code",
   "execution_count": 27,
   "id": "453a7d65",
   "metadata": {},
   "outputs": [
    {
     "data": {
      "image/png": "[encoded data removed]",
      "text/plain": [
       "<Figure size 800x500 with 1 Axes>"
      ]
     },
     "metadata": {},
     "output_type": "display_data"
    },
    {
     "name": "stdout",
     "output_type": "stream",
     "text": [
      "Graphique enregistré dans: C:\\Users\\24160\\Desktop\\TP\\data\\output\\oee_apq_mensuel.png\n"
     ]
    }
   ],
   "source": [
    "x = range(len(mensuel))\n",
    "labels = [f\"{int(y)}-{int(m):02d}\" for y, m in zip(mensuel[\"year\"], mensuel[\"month\"])]\n",
    "\n",
    "plt.figure(figsize=(8,5))\n",
    "plt.plot(x, mensuel[\"A\"], marker=\"o\", label=\"Disponibilité (A)\")\n",
    "plt.plot(x, mensuel[\"P\"], marker=\"s\", label=\"Performance (P)\")\n",
    "plt.plot(x, mensuel[\"Q\"], marker=\"^\", label=\"Qualité (Q)\")\n",
    "plt.plot(x, mensuel[\"OEE\"], marker=\"d\", label=\"OEE global\", linewidth=2)\n",
    "\n",
    "plt.title(\"Évolution mensuelle des indicateurs A/P/Q/OEE\")\n",
    "plt.xlabel(\"Mois\")\n",
    "plt.ylabel(\"Taux\")\n",
    "plt.ylim(0, 1)\n",
    "plt.xticks(x, labels, rotation=45, ha=\"right\")\n",
    "plt.legend()\n",
    "plt.tight_layout()\n",
    "\n",
    "out = data_root / \"output\" / \"oee_apq_mensuel.png\"\n",
    "plt.savefig(out)\n",
    "plt.show()\n",
    "print(\"Graphique enregistré dans:\", out.resolve())\n"
   ]
  },
  {
   "cell_type": "markdown",
   "id": "931cca5d",
   "metadata": {},
   "source": [
    "##### 3. Top 10 modes de défaillance par minutes perdues ; Pareto 80/20"
   ]
  },
  {
   "cell_type": "code",
   "execution_count": 30,
   "id": "d9beedff",
   "metadata": {},
   "outputs": [
    {
     "name": "stdout",
     "output_type": "stream",
     "text": [
      "Top 10 modes de défaillance par minutes perdues :\n",
      "         failure_mode  minutes_down        pct     pct_cum\n",
      "0           Breakdown         73208  35.166060   35.166060\n",
      "4               Setup         50552  24.283065   59.449125\n",
      "3             Quality         32017  15.379627   74.828752\n",
      "1            Material         30854  14.820971   89.649723\n",
      "2  Plannedmaintenance         21547  10.350277  100.000000 \n",
      "\n"
     ]
    },
    {
     "data": {
      "image/png": "[encoded data removed]",
      "text/plain": [
       "<Figure size 800x500 with 2 Axes>"
      ]
     },
     "metadata": {},
     "output_type": "display_data"
    },
    {
     "name": "stdout",
     "output_type": "stream",
     "text": [
      "Graphique Pareto coloré enregistré dans : C:\\Users\\24160\\Desktop\\TP\\data\\output\\pareto_downtime_color.png\n"
     ]
    }
   ],
   "source": [
    "df_pareto = (\n",
    "    fact_downtime\n",
    "    .groupby(\"failure_mode\", as_index=False)[\"minutes_down\"]\n",
    "    .sum()\n",
    "    .sort_values(\"minutes_down\", ascending=False)\n",
    ")\n",
    "\n",
    "total = df_pareto[\"minutes_down\"].sum()\n",
    "df_pareto[\"pct\"] = df_pareto[\"minutes_down\"] / total * 100\n",
    "df_pareto[\"pct_cum\"] = df_pareto[\"pct\"].cumsum()\n",
    "\n",
    "top10 = df_pareto.head(10)\n",
    "\n",
    "print(\"Top 10 modes de défaillance par minutes perdues :\")\n",
    "print(top10, \"\\n\")\n",
    "\n",
    "fig, ax1 = plt.subplots(figsize=(8,5))\n",
    "\n",
    "ax1.bar(top10[\"failure_mode\"], top10[\"minutes_down\"], color=\"#6699CC\", edgecolor=\"black\", alpha=0.8)\n",
    "ax1.set_xlabel(\"Mode de défaillance\")\n",
    "ax1.set_ylabel(\"Minutes perdues\", color=\"#336699\")\n",
    "plt.xticks(rotation=45, ha=\"right\")\n",
    "\n",
    "ax2 = ax1.twinx()\n",
    "ax2.plot(top10[\"failure_mode\"], top10[\"pct_cum\"], color=\"#FF6600\", marker=\"o\", linestyle=\"--\", linewidth=2)\n",
    "ax2.set_ylabel(\"Pourcentage cumulé (%)\", color=\"#FF6600\")\n",
    "ax2.set_ylim(0, 110)\n",
    "\n",
    "plt.title(\"Pareto des arrêts (Top 10 modes)\", fontsize=13, fontweight=\"bold\")\n",
    "plt.tight_layout()\n",
    "\n",
    "out = data_root / \"output\" / \"pareto_downtime_color.png\"\n",
    "plt.savefig(out)\n",
    "plt.show()\n",
    "print(\"Graphique Pareto coloré enregistré dans :\", out.resolve())\n",
    "\n"
   ]
  },
  {
   "cell_type": "markdown",
   "id": "df31dbf7",
   "metadata": {},
   "source": [
    "##### 4. Construire une vue matérialisée v_oee_monthly(area)."
   ]
  },
  {
   "cell_type": "code",
   "execution_count": null,
   "id": "2d2ea6a1",
   "metadata": {},
   "outputs": [
    {
     "name": "stdout",
     "output_type": "stream",
     "text": [
      "Aperçu de la vue matérialisée v_oee_monthly(area) :\n",
      "       area  year  month         A        P         Q       OEE\n",
      "0  Assembly  2025      1  0.952858  1.00000  0.935496  0.891395\n",
      "1  Assembly  2025      2  0.947280  1.00000  0.936274  0.886914\n",
      "2  Assembly  2025      3  0.960505  1.00000  0.930725  0.893967\n",
      "3  Assembly  2025      4  0.949501  1.00000  0.928414  0.881530\n",
      "4  Assembly  2025      5  0.957465  0.98552  0.929458  0.877038 \n",
      "\n",
      "Vue matérialisée enregistrée dans : C:\\Users\\24160\\Desktop\\TP\\data\\output\\v_oee_monthly.csv\n"
     ]
    }
   ],
   "source": [
    "prod_a = fact_production.merge(dim_machine[[\"machine_sk\", \"area\"]], on=\"machine_sk\")\n",
    "prod_a = prod_a.merge(dim_date[[\"date_sk\", \"year\", \"month\"]], on=\"date_sk\")\n",
    "down_a = fact_downtime.merge(dim_machine[[\"machine_sk\", \"area\"]], on=\"machine_sk\")\n",
    "down_a = down_a.merge(dim_date[[\"date_sk\", \"year\", \"month\"]], on=\"date_sk\")\n",
    "\n",
    "down_mois = (\n",
    "    down_a.groupby([\"area\", \"year\", \"month\"], as_index=False)[\"minutes_down\"]\n",
    "    .sum()\n",
    ")\n",
    "\n",
    "prod_mois = (\n",
    "    prod_a.groupby([\"area\", \"year\", \"month\"], as_index=False)\n",
    "    .agg(\n",
    "        units_good=(\"units_good\", \"sum\"),\n",
    "        units_total=(\"units_total\", \"sum\"),\n",
    "        planned_minutes=(\"planned_minutes\", \"sum\"),\n",
    "        ideal_rate=(\"ideal_rate_per_min\", \"mean\")\n",
    "    )\n",
    ")\n",
    "\n",
    "v_oee = prod_mois.merge(down_mois, on=[\"area\", \"year\", \"month\"], how=\"left\").fillna({\"minutes_down\": 0})\n",
    "v_oee[\"A\"] = (v_oee[\"planned_minutes\"] - v_oee[\"minutes_down\"]) / v_oee[\"planned_minutes\"]\n",
    "runtime = (v_oee[\"planned_minutes\"] - v_oee[\"minutes_down\"]).clip(lower=1)\n",
    "v_oee[\"P\"] = (v_oee[\"units_total\"] / (v_oee[\"ideal_rate\"] * runtime)).clip(upper=1)\n",
    "v_oee[\"Q\"] = (v_oee[\"units_good\"] / v_oee[\"units_total\"]).replace([np.inf, np.nan], 0)\n",
    "v_oee[\"OEE\"] = (v_oee[\"A\"] * v_oee[\"P\"] * v_oee[\"Q\"]).fillna(0)\n",
    "\n",
    "print(\"Aperçu de la vue matérialisée v_oee_monthly(area) :\")\n",
    "print(v_oee[[\"area\", \"year\", \"month\", \"A\", \"P\", \"Q\", \"OEE\"]].head(), \"\\n\")\n",
    "\n",
    "out_view = data_root / \"output\" / \"v_oee_monthly.csv\"\n",
    "v_oee.to_csv(out_view, index=False)\n",
    "print(\"Vue matérialisée enregistrée dans :\", out_view.resolve())\n"
   ]
  },
  {
   "cell_type": "markdown",
   "id": "8ce340cf",
   "metadata": {},
   "source": [
    "##### 5. Règles de Qualité des Données (DQ)\n"
   ]
  },
  {
   "cell_type": "code",
   "execution_count": 32,
   "id": "4e179291",
   "metadata": {},
   "outputs": [
    {
     "name": "stdout",
     "output_type": "stream",
     "text": [
      "Résumé des anomalies détectées :\n",
      "              regle  nb\n",
      "0  NEGATIVE_MINUTES   0\n",
      "1    SCRAP_GT_TOTAL   0\n",
      "2  ZERO_OR_NEG_RATE   0 \n",
      "\n",
      "Rapport DQ enregistré dans : C:\\Users\\24160\\Desktop\\TP\\data\\output\\dq_anomalies.csv\n"
     ]
    }
   ],
   "source": [
    "anomalies = []\n",
    "\n",
    "a1 = fact_downtime[fact_downtime[\"minutes_down\"] < 0]\n",
    "anomalies.append({\n",
    "    \"regle\": \"NEGATIVE_MINUTES\",\n",
    "    \"nb\": len(a1)\n",
    "})\n",
    "\n",
    "a2 = fact_production[fact_production[\"units_total\"] < fact_production[\"units_good\"]]\n",
    "anomalies.append({\n",
    "    \"regle\": \"SCRAP_GT_TOTAL\",\n",
    "    \"nb\": len(a2)\n",
    "})\n",
    "\n",
    "a3 = dim_product[dim_product[\"ideal_rate_per_min\"] <= 0]\n",
    "anomalies.append({\n",
    "    \"regle\": \"ZERO_OR_NEG_RATE\",\n",
    "    \"nb\": len(a3)\n",
    "})\n",
    "\n",
    "df_anom = pd.DataFrame(anomalies)\n",
    "print(\"Résumé des anomalies détectées :\")\n",
    "print(df_anom, \"\\n\")\n",
    "\n",
    "out_dq = data_root / \"output\" / \"dq_anomalies.csv\"\n",
    "df_anom.to_csv(out_dq, index=False)\n",
    "print(\"Rapport DQ enregistré dans :\", out_dq.resolve())\n"
   ]
  },
  {
   "cell_type": "markdown",
   "id": "af4e2ad8",
   "metadata": {},
   "source": [
    "### Extension"
   ]
  },
  {
   "cell_type": "markdown",
   "id": "3b77b3a9",
   "metadata": {},
   "source": [
    "##### Extension 1 — SCD2 sur dim_machine"
   ]
  },
  {
   "cell_type": "code",
   "execution_count": 33,
   "id": "d2092f22",
   "metadata": {},
   "outputs": [
    {
     "name": "stdout",
     "output_type": "stream",
     "text": [
      "Nouvelle base SCD2 créée : C:\\Users\\24160\\Desktop\\TP\\scd2_dw.duckdb\n"
     ]
    }
   ],
   "source": [
    "import duckdb\n",
    "from pathlib import Path\n",
    "\n",
    "scd_db = Path(\"../scd2_dw.duckdb\")\n",
    "con_scd = duckdb.connect(str(scd_db))\n",
    "print(\"Nouvelle base SCD2 créée :\", scd_db.resolve())\n"
   ]
  },
  {
   "cell_type": "code",
   "execution_count": 34,
   "id": "57ee3310",
   "metadata": {},
   "outputs": [
    {
     "name": "stdout",
     "output_type": "stream",
     "text": [
      "Table dim_machine (SCD2) créée avec succès.\n"
     ]
    }
   ],
   "source": [
    "con_scd.execute(\"\"\"\n",
    "CREATE TABLE dim_machine (\n",
    "    machine_sk BIGINT PRIMARY KEY,\n",
    "    machine_id INT NOT NULL,\n",
    "    machine_name VARCHAR(40) NOT NULL,\n",
    "    area VARCHAR(40) NOT NULL,\n",
    "    status VARCHAR(20) DEFAULT 'Active',\n",
    "    valid_from DATE NOT NULL,\n",
    "    valid_to DATE NOT NULL,\n",
    "    is_current BOOLEAN NOT NULL,\n",
    "    CONSTRAINT uk_machine_hist UNIQUE (machine_id, valid_from)\n",
    ");\n",
    "\"\"\")\n",
    "\n",
    "print(\"Table dim_machine (SCD2) créée avec succès.\")"
   ]
  },
  {
   "cell_type": "code",
   "execution_count": 36,
   "id": "8ac98e5c",
   "metadata": {},
   "outputs": [
    {
     "name": "stdout",
     "output_type": "stream",
     "text": [
      "Données initiales insérées (dates corrigées pour pandas).\n",
      "   machine_sk  machine_id machine_name       area  status valid_from  \\\n",
      "0           1           1          M01  Packaging  Active 2025-01-01   \n",
      "1           2           2          M02    Cutting  Active 2025-01-01   \n",
      "2           3           3          M03    Cutting  Active 2025-01-01   \n",
      "3           4           4          M04  Packaging  Active 2025-01-01   \n",
      "4           5           5          M05   Assembly  Active 2025-01-01   \n",
      "\n",
      "    valid_to  is_current  \n",
      "0 2262-04-11        True  \n",
      "1 2262-04-11        True  \n",
      "2 2262-04-11        True  \n",
      "3 2262-04-11        True  \n",
      "4 2262-04-11        True  \n"
     ]
    }
   ],
   "source": [
    "import pandas as pd\n",
    "from datetime import date\n",
    "\n",
    "df_machine = pd.read_csv(\"../data/dim/dim_machine.csv\")\n",
    "\n",
    "df_machine[\"status\"] = \"Active\"\n",
    "df_machine[\"valid_from\"] = pd.to_datetime(date(2025, 1, 1))\n",
    "df_machine[\"valid_to\"] = pd.to_datetime(\"2262-04-11\")\n",
    "df_machine[\"is_current\"] = True\n",
    "\n",
    "con_scd.register(\"tmp_machine\", df_machine)\n",
    "con_scd.execute(\"\"\"\n",
    "INSERT INTO dim_machine\n",
    "SELECT machine_sk, machine_id, machine_name, area,\n",
    "       status, valid_from, valid_to, is_current\n",
    "FROM tmp_machine;\n",
    "\"\"\")\n",
    "\n",
    "print(\"Données initiales insérées (dates corrigées pour pandas).\")\n",
    "print(con_scd.execute(\"SELECT * FROM dim_machine LIMIT 5;\").fetchdf())"
   ]
  },
  {
   "cell_type": "code",
   "execution_count": 39,
   "id": "1d241049",
   "metadata": {},
   "outputs": [
    {
     "name": "stdout",
     "output_type": "stream",
     "text": [
      "Changements SCD2 appliqués sans doublons de clé.\n",
      "\n",
      "   machine_id machine_name       area       status valid_from   valid_to  \\\n",
      "0           3          M03    Cutting       Active 2025-01-01 2025-04-30   \n",
      "1           3          M03   Assembly       Active 2025-05-01 2262-04-11   \n",
      "2           7          M07   Assembly       Active 2025-01-01 2025-04-30   \n",
      "3           7          M07  Packaging  Maintenance 2025-05-01 2262-04-11   \n",
      "\n",
      "   is_current  \n",
      "0       False  \n",
      "1        True  \n",
      "2       False  \n",
      "3        True  \n"
     ]
    }
   ],
   "source": [
    "max_sk = con_scd.execute(\"SELECT MAX(machine_sk) FROM dim_machine;\").fetchone()[0]\n",
    "if pd.isna(max_sk):\n",
    "    max_sk = 0\n",
    "\n",
    "modifs = [\n",
    "    {\"machine_id\": 3, \"new_area\": \"Assembly\", \"new_status\": \"Active\"},\n",
    "    {\"machine_id\": 7, \"new_area\": \"Packaging\", \"new_status\": \"Maintenance\"}\n",
    "]\n",
    "date_chg = \"2025-05-01\"\n",
    "\n",
    "for m in modifs:\n",
    "    mid = m[\"machine_id\"]\n",
    "\n",
    "    con_scd.execute(f\"\"\"\n",
    "        UPDATE dim_machine\n",
    "        SET valid_to = DATE '{date_chg}' - INTERVAL 1 DAY,\n",
    "            is_current = FALSE\n",
    "        WHERE machine_id = {mid} AND is_current = TRUE;\n",
    "    \"\"\")\n",
    "\n",
    "    max_sk += 1\n",
    "\n",
    "    con_scd.execute(f\"\"\"\n",
    "        INSERT INTO dim_machine\n",
    "        SELECT\n",
    "            {max_sk} AS machine_sk,\n",
    "            machine_id,\n",
    "            machine_name,\n",
    "            '{m[\"new_area\"]}' AS area,\n",
    "            '{m[\"new_status\"]}' AS status,\n",
    "            DATE '{date_chg}' AS valid_from,\n",
    "            DATE '2262-04-11' AS valid_to,\n",
    "            TRUE AS is_current\n",
    "        FROM dim_machine\n",
    "        WHERE machine_id = {mid}\n",
    "        LIMIT 1;\n",
    "    \"\"\")\n",
    "\n",
    "print(\"Changements SCD2 appliqués sans doublons de clé.\\n\")\n",
    "print(con_scd.execute(\"\"\"\n",
    "SELECT machine_id, machine_name, area, status,\n",
    "       valid_from, valid_to, is_current\n",
    "FROM dim_machine\n",
    "WHERE machine_id IN (3,7)\n",
    "ORDER BY machine_id, valid_from;\n",
    "\"\"\").fetchdf())\n"
   ]
  },
  {
   "cell_type": "markdown",
   "id": "2ed8a067",
   "metadata": {},
   "source": [
    "##### Extension 2 — Accumulating Snapshot : fact_workorder"
   ]
  },
  {
   "cell_type": "code",
   "execution_count": 40,
   "id": "bd0e0320",
   "metadata": {},
   "outputs": [
    {
     "name": "stdout",
     "output_type": "stream",
     "text": [
      "Table fact_workorder créée avec succès (Extension 2).\n"
     ]
    }
   ],
   "source": [
    "con_scd.execute(\"\"\"\n",
    "CREATE TABLE fact_workorder (\n",
    "    wo_sk BIGINT PRIMARY KEY,\n",
    "    wo_number VARCHAR(30) NOT NULL,          -- identifiant du workorder\n",
    "    machine_sk BIGINT NOT NULL,\n",
    "    open_date_sk BIGINT,\n",
    "    schedule_date_sk BIGINT,\n",
    "    start_date_sk BIGINT,\n",
    "    complete_date_sk BIGINT,\n",
    "    close_date_sk BIGINT,\n",
    "    labor_hours NUMERIC(10,2),\n",
    "    material_cost NUMERIC(12,2),\n",
    "    status VARCHAR(20)\n",
    ");\n",
    "\"\"\")\n",
    "\n",
    "print(\"Table fact_workorder créée avec succès (Extension 2).\")"
   ]
  },
  {
   "cell_type": "code",
   "execution_count": 41,
   "id": "969a23eb",
   "metadata": {},
   "outputs": [
    {
     "name": "stdout",
     "output_type": "stream",
     "text": [
      "Workorders initiaux insérés (état = 'Open').\n",
      "   wo_sk wo_number  machine_sk  open_date_sk  schedule_date_sk  start_date_sk  \\\n",
      "0      1     WO001           1            24              <NA>           <NA>   \n",
      "1      2     WO002           1            74              <NA>           <NA>   \n",
      "2      3     WO003           7             3              <NA>           <NA>   \n",
      "3      4     WO004           6            17              <NA>           <NA>   \n",
      "4      5     WO005           6             7              <NA>           <NA>   \n",
      "\n",
      "   complete_date_sk  close_date_sk  labor_hours  material_cost status  \n",
      "0              <NA>           <NA>          NaN            NaN   Open  \n",
      "1              <NA>           <NA>          NaN            NaN   Open  \n",
      "2              <NA>           <NA>          NaN            NaN   Open  \n",
      "3              <NA>           <NA>          NaN            NaN   Open  \n",
      "4              <NA>           <NA>          NaN            NaN   Open  \n"
     ]
    }
   ],
   "source": [
    "import pandas as pd\n",
    "import numpy as np\n",
    "from datetime import date\n",
    "\n",
    "df_wo = pd.DataFrame({\n",
    "    \"wo_sk\": range(1, 6),\n",
    "    \"wo_number\": [f\"WO{i:03d}\" for i in range(1, 6)],\n",
    "    \"machine_sk\": np.random.randint(1, 10, 5),\n",
    "    \"open_date_sk\": np.random.randint(1, 100, 5),\n",
    "    \"schedule_date_sk\": [None]*5,\n",
    "    \"start_date_sk\": [None]*5,\n",
    "    \"complete_date_sk\": [None]*5,\n",
    "    \"close_date_sk\": [None]*5,\n",
    "    \"labor_hours\": [None]*5,\n",
    "    \"material_cost\": [None]*5,\n",
    "    \"status\": [\"Open\"]*5\n",
    "})\n",
    "\n",
    "con_scd.register(\"tmp_wo_init\", df_wo)\n",
    "con_scd.execute(\"INSERT INTO fact_workorder SELECT * FROM tmp_wo_init;\")\n",
    "\n",
    "print(\"Workorders initiaux insérés (état = 'Open').\")\n",
    "print(con_scd.execute(\"SELECT * FROM fact_workorder;\").fetchdf())"
   ]
  },
  {
   "cell_type": "code",
   "execution_count": 42,
   "id": "d8ecfa8b",
   "metadata": {},
   "outputs": [
    {
     "name": "stdout",
     "output_type": "stream",
     "text": [
      "Mises à jour de workorders appliquées (Accumulating Snapshot).\n",
      "  wo_number     status  open_date_sk  schedule_date_sk  start_date_sk  \\\n",
      "0     WO001       Open            24              <NA>           <NA>   \n",
      "1     WO002  Scheduled            74               120           <NA>   \n",
      "2     WO003       Open             3              <NA>           <NA>   \n",
      "3     WO004     Closed            17              <NA>            130   \n",
      "4     WO005       Open             7              <NA>           <NA>   \n",
      "\n",
      "   complete_date_sk  close_date_sk  labor_hours  material_cost  \n",
      "0              <NA>           <NA>          NaN            NaN  \n",
      "1              <NA>           <NA>          NaN            NaN  \n",
      "2              <NA>           <NA>          NaN            NaN  \n",
      "3               150            155         12.5          640.0  \n",
      "4              <NA>           <NA>          NaN            NaN  \n"
     ]
    }
   ],
   "source": [
    "maj = [\n",
    "    {\"wo_number\": \"WO002\", \"schedule_date_sk\": 120, \"status\": \"Scheduled\"},\n",
    "    {\"wo_number\": \"WO004\", \"start_date_sk\": 130, \"complete_date_sk\": 150,\n",
    "     \"close_date_sk\": 155, \"labor_hours\": 12.5, \"material_cost\": 640.0, \"status\": \"Closed\"}\n",
    "]\n",
    "\n",
    "for w in maj:\n",
    "    sets = []\n",
    "    for k, v in w.items():\n",
    "        if k != \"wo_number\":\n",
    "            if isinstance(v, str):\n",
    "                sets.append(f\"{k} = '{v}'\")\n",
    "            else:\n",
    "                sets.append(f\"{k} = {v}\")\n",
    "    set_clause = \", \".join(sets)\n",
    "    con_scd.execute(f\"\"\"\n",
    "        UPDATE fact_workorder\n",
    "        SET {set_clause}\n",
    "        WHERE wo_number = '{w[\"wo_number\"]}';\n",
    "    \"\"\")\n",
    "\n",
    "print(\"Mises à jour de workorders appliquées (Accumulating Snapshot).\")\n",
    "print(con_scd.execute(\"\"\"\n",
    "SELECT wo_number, status, open_date_sk, schedule_date_sk,\n",
    "       start_date_sk, complete_date_sk, close_date_sk,\n",
    "       labor_hours, material_cost\n",
    "FROM fact_workorder;\n",
    "\"\"\").fetchdf())"
   ]
  },
  {
   "cell_type": "markdown",
   "id": "80407e4e",
   "metadata": {},
   "source": [
    "##### Extension 3 — Bridge table : multi-causality des arrêts"
   ]
  },
  {
   "cell_type": "code",
   "execution_count": 43,
   "id": "a92a2489",
   "metadata": {},
   "outputs": [
    {
     "name": "stdout",
     "output_type": "stream",
     "text": [
      "Nouvelle base Bridge créée : C:\\Users\\24160\\Desktop\\TP\\bridge_dw.duckdb\n",
      "Tables dim_failure_mode et br_downtime_cause créées avec succès.\n"
     ]
    }
   ],
   "source": [
    "import duckdb\n",
    "from pathlib import Path\n",
    "\n",
    "bridge_db = Path(\"../bridge_dw.duckdb\")\n",
    "con_bridge = duckdb.connect(str(bridge_db))\n",
    "print(\"Nouvelle base Bridge créée :\", bridge_db.resolve())\n",
    "\n",
    "con_bridge.execute(\"\"\"\n",
    "CREATE TABLE dim_failure_mode (\n",
    "    failure_mode_sk BIGINT PRIMARY KEY,\n",
    "    failure_mode VARCHAR(60) UNIQUE\n",
    ");\n",
    "\"\"\")\n",
    "\n",
    "con_bridge.execute(\"\"\"\n",
    "CREATE TABLE br_downtime_cause (   -- bridge\n",
    "    downtime_id BIGINT NOT NULL,   -- identifiant du fait downtime\n",
    "    failure_mode_sk BIGINT NOT NULL,\n",
    "    allocation_pct NUMERIC(5,4) NOT NULL\n",
    "        CHECK (allocation_pct >= 0 AND allocation_pct <= 1),\n",
    "    PRIMARY KEY (downtime_id, failure_mode_sk)\n",
    ");\n",
    "\"\"\")\n",
    "\n",
    "print(\"Tables dim_failure_mode et br_downtime_cause créées avec succès.\")\n"
   ]
  },
  {
   "cell_type": "code",
   "execution_count": 44,
   "id": "dedb750f",
   "metadata": {},
   "outputs": [
    {
     "name": "stdout",
     "output_type": "stream",
     "text": [
      "Contenu de dim_failure_mode :\n",
      "   failure_mode_sk        failure_mode\n",
      "0                1               Setup\n",
      "1                2           Breakdown\n",
      "2                3             Quality\n",
      "3                4            Material\n",
      "4                5  PlannedMaintenance\n"
     ]
    }
   ],
   "source": [
    "import pandas as pd\n",
    "\n",
    "df_modes = pd.DataFrame({\n",
    "    \"failure_mode_sk\": [1, 2, 3, 4, 5],\n",
    "    \"failure_mode\": [\"Setup\", \"Breakdown\", \"Quality\", \"Material\", \"PlannedMaintenance\"]\n",
    "})\n",
    "\n",
    "con_bridge.register(\"tmp_modes\", df_modes)\n",
    "con_bridge.execute(\"INSERT INTO dim_failure_mode SELECT * FROM tmp_modes;\")\n",
    "\n",
    "print(\"Contenu de dim_failure_mode :\")\n",
    "print(con_bridge.execute(\"SELECT * FROM dim_failure_mode;\").fetchdf())\n"
   ]
  },
  {
   "cell_type": "code",
   "execution_count": 45,
   "id": "3a11a5b4",
   "metadata": {},
   "outputs": [
    {
     "name": "stdout",
     "output_type": "stream",
     "text": [
      "Exemples insérés dans br_downtime_cause :\n",
      "   downtime_id  failure_mode_sk  allocation_pct\n",
      "0            1                2          0.2255\n",
      "1            1                5          0.7745\n",
      "2            2                5          1.0000\n",
      "3            3                1          0.7093\n",
      "4            3                3          0.2907\n",
      "5            4                4          0.4698\n",
      "6            4                5          0.5302\n",
      "7            5                5          1.0000\n"
     ]
    }
   ],
   "source": [
    "import numpy as np\n",
    "\n",
    "rows = []\n",
    "rng = np.random.default_rng(10)\n",
    "\n",
    "for downtime_id in range(1, 6):\n",
    "    nb_causes = 1 if rng.random() < 0.5 else 2\n",
    "    causes = rng.choice(df_modes[\"failure_mode_sk\"], nb_causes, replace=False)\n",
    "    poids = rng.random(nb_causes)\n",
    "    poids = poids / poids.sum()\n",
    "    for c, p in zip(causes, poids):\n",
    "        rows.append([downtime_id, int(c), round(float(p), 4)])\n",
    "\n",
    "df_bridge = pd.DataFrame(rows, columns=[\"downtime_id\", \"failure_mode_sk\", \"allocation_pct\"])\n",
    "con_bridge.register(\"tmp_bridge\", df_bridge)\n",
    "con_bridge.execute(\"INSERT INTO br_downtime_cause SELECT * FROM tmp_bridge;\")\n",
    "\n",
    "print(\"Exemples insérés dans br_downtime_cause :\")\n",
    "print(con_bridge.execute(\"SELECT * FROM br_downtime_cause ORDER BY downtime_id;\").fetchdf())\n"
   ]
  },
  {
   "cell_type": "code",
   "execution_count": 46,
   "id": "9f4102ad",
   "metadata": {},
   "outputs": [
    {
     "name": "stdout",
     "output_type": "stream",
     "text": [
      "Minutes pondérées par mode de défaillance :\n",
      "         failure_mode  minutes_ponderees\n",
      "0  PlannedMaintenance           235.8067\n",
      "1               Setup            57.4533\n",
      "2            Material            42.7518\n",
      "3             Quality            23.5467\n",
      "4           Breakdown             7.4415\n"
     ]
    }
   ],
   "source": [
    "fact_downtime_ex = pd.DataFrame({\n",
    "    \"downtime_id\": range(1, 6),\n",
    "    \"minutes_down\": np.random.randint(20, 100, 5)\n",
    "})\n",
    "con_bridge.register(\"fact_downtime_ex\", fact_downtime_ex)\n",
    "\n",
    "res = con_bridge.execute(\"\"\"\n",
    "SELECT \n",
    "    f.failure_mode,\n",
    "    SUM(fd.minutes_down * b.allocation_pct) AS minutes_ponderees\n",
    "FROM fact_downtime_ex fd\n",
    "JOIN br_downtime_cause b USING(downtime_id)\n",
    "JOIN dim_failure_mode f USING(failure_mode_sk)\n",
    "GROUP BY f.failure_mode\n",
    "ORDER BY minutes_ponderees DESC;\n",
    "\"\"\").fetchdf()\n",
    "\n",
    "print(\"Minutes pondérées par mode de défaillance :\")\n",
    "print(res)\n"
   ]
  },
  {
   "cell_type": "markdown",
   "id": "8618f8d1",
   "metadata": {},
   "source": [
    "##### Extension 4 — Late Arriving Facts & Unknowns"
   ]
  },
  {
   "cell_type": "code",
   "execution_count": 47,
   "id": "c9870644",
   "metadata": {},
   "outputs": [
    {
     "name": "stdout",
     "output_type": "stream",
     "text": [
      "Nouvelle base pour Extension 4 : C:\\Users\\24160\\Desktop\\TP\\late_dw.duckdb\n",
      "Membre 'Unknown Product' ajouté à dim_product (SK = 0).\n",
      "   product_sk  sku     product_name  ideal_rate_per_min\n",
      "0           0  UNK  Unknown Product                 1.0\n"
     ]
    }
   ],
   "source": [
    "import duckdb\n",
    "from pathlib import Path\n",
    "\n",
    "unknown_db = Path(\"../late_dw.duckdb\")\n",
    "con_unknown = duckdb.connect(str(unknown_db))\n",
    "print(\"Nouvelle base pour Extension 4 :\", unknown_db.resolve())\n",
    "\n",
    "con_unknown.execute(\"\"\"\n",
    "CREATE TABLE IF NOT EXISTS dim_product (\n",
    "    product_sk BIGINT PRIMARY KEY,\n",
    "    sku VARCHAR(20),\n",
    "    product_name VARCHAR(80),\n",
    "    ideal_rate_per_min DOUBLE\n",
    ");\n",
    "\"\"\")\n",
    "\n",
    "con_unknown.execute(\"\"\"\n",
    "INSERT INTO dim_product (product_sk, sku, product_name, ideal_rate_per_min)\n",
    "SELECT 0, 'UNK', 'Unknown Product', 1.0\n",
    "WHERE NOT EXISTS (SELECT 1 FROM dim_product WHERE product_sk = 0);\n",
    "\"\"\")\n",
    "\n",
    "print(\"Membre 'Unknown Product' ajouté à dim_product (SK = 0).\")\n",
    "print(con_unknown.execute(\"SELECT * FROM dim_product LIMIT 5;\").fetchdf())"
   ]
  },
  {
   "cell_type": "code",
   "execution_count": 48,
   "id": "f663155d",
   "metadata": {},
   "outputs": [
    {
     "name": "stdout",
     "output_type": "stream",
     "text": [
      "Fait 'Late Arriving' inséré (product_sk = 0).\n",
      "   date_sk  machine_sk  shift_sk  product_sk  units_good  units_scrap  \\\n",
      "0      101           2         1           0       350.0         10.0   \n",
      "\n",
      "   units_total  ideal_rate_per_min  planned_minutes  \n",
      "0        360.0                 1.0            480.0  \n"
     ]
    }
   ],
   "source": [
    "import pandas as pd\n",
    "\n",
    "fact_late = pd.DataFrame([{\n",
    "    \"date_sk\": 101,\n",
    "    \"machine_sk\": 2,\n",
    "    \"shift_sk\": 1,\n",
    "    \"product_sk\": 0,         \n",
    "    \"units_good\": 350,\n",
    "    \"units_scrap\": 10,\n",
    "    \"units_total\": 360,\n",
    "    \"ideal_rate_per_min\": 1.0,\n",
    "    \"planned_minutes\": 480\n",
    "}])\n",
    "\n",
    "con_unknown.register(\"tmp_fact_late\", fact_late)\n",
    "con_unknown.execute(\"\"\"\n",
    "CREATE TABLE IF NOT EXISTS fact_production (\n",
    "    date_sk BIGINT,\n",
    "    machine_sk BIGINT,\n",
    "    shift_sk BIGINT,\n",
    "    product_sk BIGINT,\n",
    "    units_good DOUBLE,\n",
    "    units_scrap DOUBLE,\n",
    "    units_total DOUBLE,\n",
    "    ideal_rate_per_min DOUBLE,\n",
    "    planned_minutes DOUBLE\n",
    ");\n",
    "\"\"\")\n",
    "\n",
    "con_unknown.execute(\"INSERT INTO fact_production SELECT * FROM tmp_fact_late;\")\n",
    "\n",
    "print(\"Fait 'Late Arriving' inséré (product_sk = 0).\")\n",
    "print(con_unknown.execute(\"SELECT * FROM fact_production;\").fetchdf())\n"
   ]
  },
  {
   "cell_type": "code",
   "execution_count": 49,
   "id": "8b022ed6",
   "metadata": {},
   "outputs": [
    {
     "name": "stdout",
     "output_type": "stream",
     "text": [
      "Rattrapage effectué : product_sk corrigé à 99.\n",
      "   date_sk  machine_sk  shift_sk  product_name  units_good  units_total\n",
      "0      101           2         1  Super Widget       350.0        360.0\n"
     ]
    }
   ],
   "source": [
    "con_unknown.execute(\"\"\"\n",
    "INSERT INTO dim_product (product_sk, sku, product_name, ideal_rate_per_min)\n",
    "VALUES (99, 'SKU999', 'Super Widget', 1.2)\n",
    "ON CONFLICT (product_sk) DO NOTHING;\n",
    "\"\"\")\n",
    "\n",
    "con_unknown.execute(\"\"\"\n",
    "UPDATE fact_production\n",
    "SET product_sk = 99\n",
    "WHERE product_sk = 0;\n",
    "\"\"\")\n",
    "\n",
    "print(\"Rattrapage effectué : product_sk corrigé à 99.\")\n",
    "print(con_unknown.execute(\"\"\"\n",
    "SELECT f.date_sk, f.machine_sk, f.shift_sk,\n",
    "       p.product_name, f.units_good, f.units_total\n",
    "FROM fact_production f\n",
    "JOIN dim_product p USING(product_sk);\n",
    "\"\"\").fetchdf())\n"
   ]
  },
  {
   "cell_type": "markdown",
   "id": "b0fa48f7",
   "metadata": {},
   "source": [
    "##### Extension 5 — Data Quality : règles rapport d’anomalies"
   ]
  },
  {
   "cell_type": "code",
   "execution_count": 50,
   "id": "57f36a3b",
   "metadata": {},
   "outputs": [
    {
     "name": "stdout",
     "output_type": "stream",
     "text": [
      "Nouvelle base pour Data Quality créée : C:\\Users\\24160\\Desktop\\TP\\dq_dw.duckdb\n",
      "Données de test insérées avec quelques anomalies.\n"
     ]
    }
   ],
   "source": [
    "import duckdb\n",
    "from pathlib import Path\n",
    "import pandas as pd\n",
    "\n",
    "dq_db = Path(\"../dq_dw.duckdb\")\n",
    "con_dq = duckdb.connect(str(dq_db))\n",
    "print(\"Nouvelle base pour Data Quality créée :\", dq_db.resolve())\n",
    "\n",
    "con_dq.execute(\"\"\"\n",
    "CREATE TABLE IF NOT EXISTS dim_product (\n",
    "    product_sk BIGINT PRIMARY KEY,\n",
    "    product_name VARCHAR,\n",
    "    ideal_rate_per_min DOUBLE\n",
    ");\n",
    "\"\"\")\n",
    "\n",
    "con_dq.execute(\"\"\"\n",
    "CREATE TABLE IF NOT EXISTS fact_production (\n",
    "    date_sk BIGINT,\n",
    "    machine_sk BIGINT,\n",
    "    units_good DOUBLE,\n",
    "    units_total DOUBLE,\n",
    "    ideal_rate_per_min DOUBLE\n",
    ");\n",
    "\"\"\")\n",
    "\n",
    "con_dq.execute(\"\"\"\n",
    "CREATE TABLE IF NOT EXISTS fact_downtime (\n",
    "    downtime_id BIGINT,\n",
    "    minutes_down DOUBLE\n",
    ");\n",
    "\"\"\")\n",
    "\n",
    "df_prod = pd.DataFrame([\n",
    "    [1, \"Widget A\", 1.2],\n",
    "    [2, \"Widget B\", -0.5],     \n",
    "    [3, \"Widget C\", 0.0]       \n",
    "], columns=[\"product_sk\", \"product_name\", \"ideal_rate_per_min\"])\n",
    "\n",
    "df_factp = pd.DataFrame([\n",
    "    [101, 5, 400, 380, 1.2], \n",
    "    [102, 6, 200, 200, 1.0],\n",
    "    [103, 7, 150, 200, 1.1]\n",
    "], columns=[\"date_sk\", \"machine_sk\", \"units_good\", \"units_total\", \"ideal_rate_per_min\"])\n",
    "\n",
    "df_factd = pd.DataFrame([\n",
    "    [1, 30],\n",
    "    [2, -10],                   \n",
    "    [3, 45]\n",
    "], columns=[\"downtime_id\", \"minutes_down\"])\n",
    "\n",
    "con_dq.register(\"tmp_prod\", df_prod)\n",
    "con_dq.register(\"tmp_factp\", df_factp)\n",
    "con_dq.register(\"tmp_factd\", df_factd)\n",
    "\n",
    "con_dq.execute(\"INSERT INTO dim_product SELECT * FROM tmp_prod;\")\n",
    "con_dq.execute(\"INSERT INTO fact_production SELECT * FROM tmp_factp;\")\n",
    "con_dq.execute(\"INSERT INTO fact_downtime SELECT * FROM tmp_factd;\")\n",
    "\n",
    "print(\"Données de test insérées avec quelques anomalies.\")"
   ]
  },
  {
   "cell_type": "code",
   "execution_count": 51,
   "id": "62cebb60",
   "metadata": {},
   "outputs": [
    {
     "name": "stdout",
     "output_type": "stream",
     "text": [
      "Vue dq_anomalies créée avec succès.\n"
     ]
    }
   ],
   "source": [
    "con_dq.execute(\"DROP VIEW IF EXISTS dq_anomalies;\")\n",
    "\n",
    "con_dq.execute(\"\"\"\n",
    "CREATE VIEW dq_anomalies AS\n",
    "SELECT 'NEGATIVE_MINUTES' AS regle, COUNT(*) AS nb\n",
    "FROM fact_downtime WHERE minutes_down < 0\n",
    "UNION ALL\n",
    "SELECT 'SCRAP_GT_TOTAL', COUNT(*)\n",
    "FROM fact_production WHERE units_good > units_total\n",
    "UNION ALL\n",
    "SELECT 'ZERO_OR_NEG_RATE', COUNT(*)\n",
    "FROM dim_product WHERE ideal_rate_per_min IS NULL OR ideal_rate_per_min <= 0;\n",
    "\"\"\")\n",
    "\n",
    "print(\"Vue dq_anomalies créée avec succès.\")\n"
   ]
  },
  {
   "cell_type": "code",
   "execution_count": 52,
   "id": "30d91633",
   "metadata": {},
   "outputs": [
    {
     "name": "stdout",
     "output_type": "stream",
     "text": [
      "Résumé des anomalies détectées :\n",
      "              regle  nb\n",
      "0  NEGATIVE_MINUTES   1\n",
      "1    SCRAP_GT_TOTAL   1\n",
      "2  ZERO_OR_NEG_RATE   2\n"
     ]
    }
   ],
   "source": [
    "res = con_dq.execute(\"SELECT * FROM dq_anomalies;\").fetchdf()\n",
    "print(\"Résumé des anomalies détectées :\")\n",
    "print(res)"
   ]
  }
 ],
 "metadata": {
  "kernelspec": {
   "display_name": ".venv",
   "language": "python",
   "name": "python3"
  },
  "language_info": {
   "codemirror_mode": {
    "name": "ipython",
    "version": 3
   },
   "file_extension": ".py",
   "mimetype": "text/x-python",
   "name": "python",
   "nbconvert_exporter": "python",
   "pygments_lexer": "ipython3",
   "version": "3.11.1"
  }
 },
 "nbformat": 4,
 "nbformat_minor": 5
}
