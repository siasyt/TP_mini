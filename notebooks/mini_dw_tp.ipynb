{
 "cells": [
  {
   "cell_type": "markdown",
   "id": "b798f8eb",
   "metadata": {},
   "source": [
    "### Contexte et setup (imports, reproductibilité)"
   ]
  },
  {
   "cell_type": "code",
   "execution_count": 34,
   "id": "c46cbf67",
   "metadata": {},
   "outputs": [],
   "source": [
    "import numpy as np\n",
    "import pandas as pd\n",
    "from datetime import datetime, timedelta\n",
    "from pathlib import Path\n",
    "import matplotlib.pyplot as plt\n",
    "\n",
    "rng = np.random.default_rng(42)\n",
    "\n",
    "notebook_dir = Path.cwd()\n",
    "project_root = notebook_dir.parent\n",
    "out_dir = project_root / \"data\"\n",
    "dim_dir = out_dir / \"dim\"\n",
    "fact_dir = out_dir / \"fact\"\n",
    "\n",
    "for d in [out_dir, dim_dir, fact_dir]:\n",
    "    d.mkdir(parents=True, exist_ok=True)\n"
   ]
  },
  {
   "cell_type": "markdown",
   "id": "bc742fc6",
   "metadata": {},
   "source": [
    "### Génération RAW : clients et produits"
   ]
  },
  {
   "cell_type": "code",
   "execution_count": 35,
   "id": "2485c71a",
   "metadata": {},
   "outputs": [],
   "source": [
    "countries = [\"FR\", \"DE\", \"ES\", \"IT\", \"UK\", \"US\"]\n",
    "raw_customers = pd.DataFrame({\n",
    "    \"customer_id\": range(1, 121),\n",
    "    \"name\": [f\"Cust {i}\" for i in range(1, 121)],\n",
    "    \"email\": [f\"user{i}@example.com\" for i in range(1, 121)],\n",
    "    \"country\": rng.choice(countries, 120)\n",
    "})\n",
    "\n",
    "categories = [\"Electronics\", \"Home\", \"Sports\", \"Toys\"]\n",
    "raw_products = pd.DataFrame({\n",
    "    \"product_id\": range(1, 61),\n",
    "    \"product_name\": [f\"Item {i}\" for i in range(1, 61)],\n",
    "    \"category\": rng.choice(categories, 60),\n",
    "    \"brand\": rng.choice([\"Acme\", \"Globex\", \"Umbrella\", \"Initech\", \"Soylent\"], 60),\n",
    "    \"unit_price\": np.round(rng.uniform(10, 300, 60), 2)\n",
    "})\n",
    "raw_products[\"unit_cost\"] = np.round(raw_products[\"unit_price\"] * rng.uniform(0.6, 0.8, 60), 2)"
   ]
  },
  {
   "cell_type": "markdown",
   "id": "6513ffce",
   "metadata": {},
   "source": [
    "### Génération RAW : lignes de commande (order lines)"
   ]
  },
  {
   "cell_type": "code",
   "execution_count": 36,
   "id": "cdcae246",
   "metadata": {},
   "outputs": [],
   "source": [
    "start, end = datetime(2025, 1, 1), datetime(2025, 9, 30)\n",
    "N = 2500\n",
    "\n",
    "raw_orders = pd.DataFrame({\n",
    "    \"order_id\": 10000 + rng.integers(0, 10000, N),\n",
    "    \"order_line_id\": range(1, N + 1),\n",
    "    \"order_ts\": [start + timedelta(days=int(rng.integers(0, (end - start).days + 1))) for _ in range(N)],\n",
    "    \"customer_id\": rng.integers(1, 121, N),\n",
    "    \"product_id\": rng.integers(1, 61, N),\n",
    "    \"quantity\": rng.integers(1, 6, N)\n",
    "})\n"
   ]
  },
  {
   "cell_type": "code",
   "execution_count": 37,
   "id": "03121aff",
   "metadata": {},
   "outputs": [],
   "source": [
    "raw_dir = out_dir / \"raw\"\n",
    "raw_dir.mkdir(parents=True, exist_ok=True)\n",
    "\n",
    "raw_customers_path = raw_dir / \"raw_customers.csv\"\n",
    "raw_products_path = raw_dir / \"raw_products.csv\"\n",
    "raw_orders_path = raw_dir / \"raw_orders.csv\""
   ]
  },
  {
   "cell_type": "code",
   "execution_count": 38,
   "id": "1f654702",
   "metadata": {},
   "outputs": [
    {
     "name": "stdout",
     "output_type": "stream",
     "text": [
      " RAW Données enregistrées avec succès：\n",
      "raw_customers.csv Enregistré avec succès, emplacement：C:\\Users\\24160\\Desktop\\TP\\data\\raw\\raw_customers.csv\n",
      "raw_products.csv Enregistré avec succès, emplacement：C:\\Users\\24160\\Desktop\\TP\\data\\raw\\raw_products.csv\n",
      "raw_orders.csv Enregistré avec succès, emplacement：C:\\Users\\24160\\Desktop\\TP\\data\\raw\\raw_orders.csv\n"
     ]
    }
   ],
   "source": [
    "raw_customers.to_csv(raw_customers_path, index=False)\n",
    "raw_products.to_csv(raw_products_path, index=False)\n",
    "raw_orders.to_csv(raw_orders_path, index=False)\n",
    "\n",
    "print(\" RAW Données enregistrées avec succès：\")\n",
    "for path in [raw_customers_path, raw_products_path, raw_orders_path]:\n",
    "    if path.exists():\n",
    "        print(f\"{path.name} Enregistré avec succès, emplacement：{path.resolve()}\")\n",
    "    else:\n",
    "        print(f\"{path.name} Enregistré avec succès\")"
   ]
  },
  {
   "cell_type": "markdown",
   "id": "da00c01c",
   "metadata": {},
   "source": [
    "### Staging : nettoyage et standardisation"
   ]
  },
  {
   "cell_type": "code",
   "execution_count": 39,
   "id": "2b5fb4ac",
   "metadata": {},
   "outputs": [],
   "source": [
    "stg_customers = raw_customers.assign(\n",
    "    email = raw_customers[\"email\"].str.strip().str.lower(),\n",
    "    country = raw_customers[\"country\"].str.upper()\n",
    ")\n",
    "\n",
    "stg_products = raw_products.assign(\n",
    "    category = raw_products[\"category\"].str.title(),\n",
    "    brand = raw_products[\"brand\"].str.title()\n",
    ")\n",
    "\n",
    "stg_orders = raw_orders.assign(\n",
    "    order_ts = pd.to_datetime(raw_orders[\"order_ts\"])\n",
    ")"
   ]
  },
  {
   "cell_type": "markdown",
   "id": "299b5519",
   "metadata": {},
   "source": [
    "### Dimensions : dim_date, dim_product, dim_customer"
   ]
  },
  {
   "cell_type": "code",
   "execution_count": 40,
   "id": "542cb2a0",
   "metadata": {},
   "outputs": [
    {
     "name": "stdout",
     "output_type": "stream",
     "text": [
      "Dimension dim_date construite avec succès.\n",
      "Nombre de dates uniques : 273\n",
      "Aperçu de la table :\n"
     ]
    },
    {
     "data": {
      "text/html": [
       "<div>\n",
       "<style scoped>\n",
       "    .dataframe tbody tr th:only-of-type {\n",
       "        vertical-align: middle;\n",
       "    }\n",
       "\n",
       "    .dataframe tbody tr th {\n",
       "        vertical-align: top;\n",
       "    }\n",
       "\n",
       "    .dataframe thead th {\n",
       "        text-align: right;\n",
       "    }\n",
       "</style>\n",
       "<table border=\"1\" class=\"dataframe\">\n",
       "  <thead>\n",
       "    <tr style=\"text-align: right;\">\n",
       "      <th></th>\n",
       "      <th>date</th>\n",
       "      <th>date_sk</th>\n",
       "      <th>day</th>\n",
       "      <th>month</th>\n",
       "      <th>quarter</th>\n",
       "      <th>year</th>\n",
       "      <th>week</th>\n",
       "    </tr>\n",
       "  </thead>\n",
       "  <tbody>\n",
       "    <tr>\n",
       "      <th>0</th>\n",
       "      <td>2025-01-01</td>\n",
       "      <td>1</td>\n",
       "      <td>1</td>\n",
       "      <td>1</td>\n",
       "      <td>1</td>\n",
       "      <td>2025</td>\n",
       "      <td>1</td>\n",
       "    </tr>\n",
       "    <tr>\n",
       "      <th>1</th>\n",
       "      <td>2025-01-02</td>\n",
       "      <td>2</td>\n",
       "      <td>2</td>\n",
       "      <td>1</td>\n",
       "      <td>1</td>\n",
       "      <td>2025</td>\n",
       "      <td>1</td>\n",
       "    </tr>\n",
       "    <tr>\n",
       "      <th>2</th>\n",
       "      <td>2025-01-03</td>\n",
       "      <td>3</td>\n",
       "      <td>3</td>\n",
       "      <td>1</td>\n",
       "      <td>1</td>\n",
       "      <td>2025</td>\n",
       "      <td>1</td>\n",
       "    </tr>\n",
       "    <tr>\n",
       "      <th>3</th>\n",
       "      <td>2025-01-04</td>\n",
       "      <td>4</td>\n",
       "      <td>4</td>\n",
       "      <td>1</td>\n",
       "      <td>1</td>\n",
       "      <td>2025</td>\n",
       "      <td>1</td>\n",
       "    </tr>\n",
       "    <tr>\n",
       "      <th>4</th>\n",
       "      <td>2025-01-05</td>\n",
       "      <td>5</td>\n",
       "      <td>5</td>\n",
       "      <td>1</td>\n",
       "      <td>1</td>\n",
       "      <td>2025</td>\n",
       "      <td>1</td>\n",
       "    </tr>\n",
       "  </tbody>\n",
       "</table>\n",
       "</div>"
      ],
      "text/plain": [
       "        date  date_sk  day  month  quarter  year  week\n",
       "0 2025-01-01        1    1      1        1  2025     1\n",
       "1 2025-01-02        2    2      1        1  2025     1\n",
       "2 2025-01-03        3    3      1        1  2025     1\n",
       "3 2025-01-04        4    4      1        1  2025     1\n",
       "4 2025-01-05        5    5      1        1  2025     1"
      ]
     },
     "metadata": {},
     "output_type": "display_data"
    },
    {
     "name": "stdout",
     "output_type": "stream",
     "text": [
      "\n",
      "Structure:\n",
      "date       datetime64[ns]\n",
      "date_sk             int64\n",
      "day                 int32\n",
      "month               int32\n",
      "quarter             int32\n",
      "year                int32\n",
      "week               UInt32\n",
      "dtype: object\n"
     ]
    }
   ],
   "source": [
    "dim_date = (\n",
    "    pd.DataFrame({\"date\": pd.to_datetime(stg_orders[\"order_ts\"].unique())})\n",
    "    .sort_values(\"date\")\n",
    "    .reset_index(drop=True)\n",
    ")\n",
    "\n",
    "dim_date[\"date_sk\"] = range(1, len(dim_date) + 1)\n",
    "\n",
    "dim_date = dim_date.assign(\n",
    "    day     = dim_date[\"date\"].dt.day,\n",
    "    month   = dim_date[\"date\"].dt.month,\n",
    "    quarter = dim_date[\"date\"].dt.quarter,\n",
    "    year    = dim_date[\"date\"].dt.year,\n",
    "    week    = dim_date[\"date\"].dt.isocalendar().week\n",
    ")\n",
    "\n",
    "print(\"Dimension dim_date construite avec succès.\")\n",
    "print(f\"Nombre de dates uniques : {len(dim_date)}\")\n",
    "print(\"Aperçu de la table :\")\n",
    "display(dim_date.head()) \n",
    "\n",
    "print(\"\\nStructure:\")\n",
    "print(dim_date.dtypes)\n"
   ]
  },
  {
   "cell_type": "code",
   "execution_count": 41,
   "id": "bbee2607",
   "metadata": {},
   "outputs": [
    {
     "name": "stdout",
     "output_type": "stream",
     "text": [
      "Dimensions dim_product et dim_customer construites avec succès.\n",
      "\n",
      "Nombre de produits : 60\n"
     ]
    },
    {
     "data": {
      "text/html": [
       "<div>\n",
       "<style scoped>\n",
       "    .dataframe tbody tr th:only-of-type {\n",
       "        vertical-align: middle;\n",
       "    }\n",
       "\n",
       "    .dataframe tbody tr th {\n",
       "        vertical-align: top;\n",
       "    }\n",
       "\n",
       "    .dataframe thead th {\n",
       "        text-align: right;\n",
       "    }\n",
       "</style>\n",
       "<table border=\"1\" class=\"dataframe\">\n",
       "  <thead>\n",
       "    <tr style=\"text-align: right;\">\n",
       "      <th></th>\n",
       "      <th>product_id</th>\n",
       "      <th>product_name</th>\n",
       "      <th>category</th>\n",
       "      <th>brand</th>\n",
       "      <th>unit_price</th>\n",
       "      <th>unit_cost</th>\n",
       "      <th>product_sk</th>\n",
       "    </tr>\n",
       "  </thead>\n",
       "  <tbody>\n",
       "    <tr>\n",
       "      <th>0</th>\n",
       "      <td>1</td>\n",
       "      <td>Item 1</td>\n",
       "      <td>Home</td>\n",
       "      <td>Soylent</td>\n",
       "      <td>179.39</td>\n",
       "      <td>139.59</td>\n",
       "      <td>1</td>\n",
       "    </tr>\n",
       "    <tr>\n",
       "      <th>1</th>\n",
       "      <td>2</td>\n",
       "      <td>Item 2</td>\n",
       "      <td>Sports</td>\n",
       "      <td>Acme</td>\n",
       "      <td>198.46</td>\n",
       "      <td>154.54</td>\n",
       "      <td>2</td>\n",
       "    </tr>\n",
       "    <tr>\n",
       "      <th>2</th>\n",
       "      <td>3</td>\n",
       "      <td>Item 3</td>\n",
       "      <td>Sports</td>\n",
       "      <td>Umbrella</td>\n",
       "      <td>34.49</td>\n",
       "      <td>24.27</td>\n",
       "      <td>3</td>\n",
       "    </tr>\n",
       "    <tr>\n",
       "      <th>3</th>\n",
       "      <td>4</td>\n",
       "      <td>Item 4</td>\n",
       "      <td>Home</td>\n",
       "      <td>Initech</td>\n",
       "      <td>130.58</td>\n",
       "      <td>86.60</td>\n",
       "      <td>4</td>\n",
       "    </tr>\n",
       "    <tr>\n",
       "      <th>4</th>\n",
       "      <td>5</td>\n",
       "      <td>Item 5</td>\n",
       "      <td>Toys</td>\n",
       "      <td>Umbrella</td>\n",
       "      <td>22.07</td>\n",
       "      <td>16.65</td>\n",
       "      <td>5</td>\n",
       "    </tr>\n",
       "  </tbody>\n",
       "</table>\n",
       "</div>"
      ],
      "text/plain": [
       "   product_id product_name category     brand  unit_price  unit_cost  \\\n",
       "0           1       Item 1     Home   Soylent      179.39     139.59   \n",
       "1           2       Item 2   Sports      Acme      198.46     154.54   \n",
       "2           3       Item 3   Sports  Umbrella       34.49      24.27   \n",
       "3           4       Item 4     Home   Initech      130.58      86.60   \n",
       "4           5       Item 5     Toys  Umbrella       22.07      16.65   \n",
       "\n",
       "   product_sk  \n",
       "0           1  \n",
       "1           2  \n",
       "2           3  \n",
       "3           4  \n",
       "4           5  "
      ]
     },
     "metadata": {},
     "output_type": "display_data"
    },
    {
     "name": "stdout",
     "output_type": "stream",
     "text": [
      "\n",
      "Nombre de clients : 120\n"
     ]
    },
    {
     "data": {
      "text/html": [
       "<div>\n",
       "<style scoped>\n",
       "    .dataframe tbody tr th:only-of-type {\n",
       "        vertical-align: middle;\n",
       "    }\n",
       "\n",
       "    .dataframe tbody tr th {\n",
       "        vertical-align: top;\n",
       "    }\n",
       "\n",
       "    .dataframe thead th {\n",
       "        text-align: right;\n",
       "    }\n",
       "</style>\n",
       "<table border=\"1\" class=\"dataframe\">\n",
       "  <thead>\n",
       "    <tr style=\"text-align: right;\">\n",
       "      <th></th>\n",
       "      <th>customer_id</th>\n",
       "      <th>name</th>\n",
       "      <th>email</th>\n",
       "      <th>country</th>\n",
       "      <th>customer_sk</th>\n",
       "    </tr>\n",
       "  </thead>\n",
       "  <tbody>\n",
       "    <tr>\n",
       "      <th>0</th>\n",
       "      <td>1</td>\n",
       "      <td>Cust 1</td>\n",
       "      <td>user1@example.com</td>\n",
       "      <td>FR</td>\n",
       "      <td>1</td>\n",
       "    </tr>\n",
       "    <tr>\n",
       "      <th>1</th>\n",
       "      <td>2</td>\n",
       "      <td>Cust 2</td>\n",
       "      <td>user2@example.com</td>\n",
       "      <td>UK</td>\n",
       "      <td>2</td>\n",
       "    </tr>\n",
       "    <tr>\n",
       "      <th>2</th>\n",
       "      <td>3</td>\n",
       "      <td>Cust 3</td>\n",
       "      <td>user3@example.com</td>\n",
       "      <td>IT</td>\n",
       "      <td>3</td>\n",
       "    </tr>\n",
       "    <tr>\n",
       "      <th>3</th>\n",
       "      <td>4</td>\n",
       "      <td>Cust 4</td>\n",
       "      <td>user4@example.com</td>\n",
       "      <td>ES</td>\n",
       "      <td>4</td>\n",
       "    </tr>\n",
       "    <tr>\n",
       "      <th>4</th>\n",
       "      <td>5</td>\n",
       "      <td>Cust 5</td>\n",
       "      <td>user5@example.com</td>\n",
       "      <td>ES</td>\n",
       "      <td>5</td>\n",
       "    </tr>\n",
       "  </tbody>\n",
       "</table>\n",
       "</div>"
      ],
      "text/plain": [
       "   customer_id    name              email country  customer_sk\n",
       "0            1  Cust 1  user1@example.com      FR            1\n",
       "1            2  Cust 2  user2@example.com      UK            2\n",
       "2            3  Cust 3  user3@example.com      IT            3\n",
       "3            4  Cust 4  user4@example.com      ES            4\n",
       "4            5  Cust 5  user5@example.com      ES            5"
      ]
     },
     "metadata": {},
     "output_type": "display_data"
    },
    {
     "name": "stdout",
     "output_type": "stream",
     "text": [
      "\n",
      "Structures:\n",
      "dim_product:\n",
      "product_id        int64\n",
      "product_name     object\n",
      "category         object\n",
      "brand            object\n",
      "unit_price      float64\n",
      "unit_cost       float64\n",
      "product_sk        int64\n",
      "dtype: object\n",
      "\n",
      "dim_customer:\n",
      "customer_id     int64\n",
      "name           object\n",
      "email          object\n",
      "country        object\n",
      "customer_sk     int64\n",
      "dtype: object\n"
     ]
    }
   ],
   "source": [
    "dim_product = stg_products.drop_duplicates(\"product_id\").reset_index(drop=True)\n",
    "dim_product[\"product_sk\"] = range(1, len(dim_product) + 1)\n",
    "\n",
    "dim_customer = stg_customers.drop_duplicates(\"customer_id\").reset_index(drop=True)\n",
    "dim_customer[\"customer_sk\"] = range(1, len(dim_customer) + 1)\n",
    "\n",
    "print(\"Dimensions dim_product et dim_customer construites avec succès.\\n\")\n",
    "\n",
    "print(f\"Nombre de produits : {len(dim_product)}\")\n",
    "display(dim_product.head())\n",
    "\n",
    "print(f\"\\nNombre de clients : {len(dim_customer)}\")\n",
    "display(dim_customer.head())\n",
    "\n",
    "print(\"\\nStructures:\")\n",
    "print(\"dim_product:\")\n",
    "print(dim_product.dtypes)\n",
    "print(\"\\ndim_customer:\")\n",
    "print(dim_customer.dtypes)\n"
   ]
  },
  {
   "cell_type": "markdown",
   "id": "388c3631",
   "metadata": {},
   "source": [
    "### Table de faits : fact_sales (quantité, montant, coût, marge)"
   ]
  },
  {
   "cell_type": "code",
   "execution_count": 42,
   "id": "894187ce",
   "metadata": {},
   "outputs": [
    {
     "name": "stdout",
     "output_type": "stream",
     "text": [
      "Table de faits fact_sales construite avec succès.\n",
      "Nombre de lignes : 2500\n"
     ]
    },
    {
     "data": {
      "text/html": [
       "<div>\n",
       "<style scoped>\n",
       "    .dataframe tbody tr th:only-of-type {\n",
       "        vertical-align: middle;\n",
       "    }\n",
       "\n",
       "    .dataframe tbody tr th {\n",
       "        vertical-align: top;\n",
       "    }\n",
       "\n",
       "    .dataframe thead th {\n",
       "        text-align: right;\n",
       "    }\n",
       "</style>\n",
       "<table border=\"1\" class=\"dataframe\">\n",
       "  <thead>\n",
       "    <tr style=\"text-align: right;\">\n",
       "      <th></th>\n",
       "      <th>order_id</th>\n",
       "      <th>order_line_id</th>\n",
       "      <th>date_sk</th>\n",
       "      <th>product_sk</th>\n",
       "      <th>customer_sk</th>\n",
       "      <th>quantity</th>\n",
       "      <th>unit_price</th>\n",
       "      <th>amount</th>\n",
       "      <th>cost</th>\n",
       "      <th>margin</th>\n",
       "    </tr>\n",
       "  </thead>\n",
       "  <tbody>\n",
       "    <tr>\n",
       "      <th>1835</th>\n",
       "      <td>10005</td>\n",
       "      <td>1836</td>\n",
       "      <td>82</td>\n",
       "      <td>8</td>\n",
       "      <td>51</td>\n",
       "      <td>1</td>\n",
       "      <td>51.91</td>\n",
       "      <td>51.91</td>\n",
       "      <td>32.13</td>\n",
       "      <td>19.78</td>\n",
       "    </tr>\n",
       "    <tr>\n",
       "      <th>1961</th>\n",
       "      <td>10010</td>\n",
       "      <td>1962</td>\n",
       "      <td>122</td>\n",
       "      <td>38</td>\n",
       "      <td>77</td>\n",
       "      <td>3</td>\n",
       "      <td>201.23</td>\n",
       "      <td>603.69</td>\n",
       "      <td>377.16</td>\n",
       "      <td>226.53</td>\n",
       "    </tr>\n",
       "    <tr>\n",
       "      <th>1007</th>\n",
       "      <td>10012</td>\n",
       "      <td>1008</td>\n",
       "      <td>20</td>\n",
       "      <td>7</td>\n",
       "      <td>36</td>\n",
       "      <td>5</td>\n",
       "      <td>105.66</td>\n",
       "      <td>528.30</td>\n",
       "      <td>356.45</td>\n",
       "      <td>171.85</td>\n",
       "    </tr>\n",
       "    <tr>\n",
       "      <th>1778</th>\n",
       "      <td>10012</td>\n",
       "      <td>1779</td>\n",
       "      <td>124</td>\n",
       "      <td>54</td>\n",
       "      <td>18</td>\n",
       "      <td>1</td>\n",
       "      <td>281.45</td>\n",
       "      <td>281.45</td>\n",
       "      <td>202.42</td>\n",
       "      <td>79.03</td>\n",
       "    </tr>\n",
       "    <tr>\n",
       "      <th>928</th>\n",
       "      <td>10015</td>\n",
       "      <td>929</td>\n",
       "      <td>54</td>\n",
       "      <td>20</td>\n",
       "      <td>64</td>\n",
       "      <td>4</td>\n",
       "      <td>33.99</td>\n",
       "      <td>135.96</td>\n",
       "      <td>90.00</td>\n",
       "      <td>45.96</td>\n",
       "    </tr>\n",
       "  </tbody>\n",
       "</table>\n",
       "</div>"
      ],
      "text/plain": [
       "      order_id  order_line_id  date_sk  product_sk  customer_sk  quantity  \\\n",
       "1835     10005           1836       82           8           51         1   \n",
       "1961     10010           1962      122          38           77         3   \n",
       "1007     10012           1008       20           7           36         5   \n",
       "1778     10012           1779      124          54           18         1   \n",
       "928      10015            929       54          20           64         4   \n",
       "\n",
       "      unit_price  amount    cost  margin  \n",
       "1835       51.91   51.91   32.13   19.78  \n",
       "1961      201.23  603.69  377.16  226.53  \n",
       "1007      105.66  528.30  356.45  171.85  \n",
       "1778      281.45  281.45  202.42   79.03  \n",
       "928        33.99  135.96   90.00   45.96  "
      ]
     },
     "metadata": {},
     "output_type": "display_data"
    },
    {
     "name": "stdout",
     "output_type": "stream",
     "text": [
      "\n",
      "Structure:\n",
      "order_id           int64\n",
      "order_line_id      int64\n",
      "date_sk            int64\n",
      "product_sk         int64\n",
      "customer_sk        int64\n",
      "quantity           int64\n",
      "unit_price       float64\n",
      "amount           float64\n",
      "cost             float64\n",
      "margin           float64\n",
      "dtype: object\n"
     ]
    }
   ],
   "source": [
    "fact = (\n",
    "    stg_orders\n",
    "    .merge(dim_customer[[\"customer_id\", \"customer_sk\"]], on=\"customer_id\")\n",
    "    .merge(dim_product[[\"product_id\", \"product_sk\", \"unit_price\", \"unit_cost\"]], on=\"product_id\")\n",
    "    .merge(dim_date[[\"date\", \"date_sk\"]], left_on=\"order_ts\", right_on=\"date\")\n",
    ")\n",
    "\n",
    "fact[\"amount\"] = fact[\"quantity\"] * fact[\"unit_price\"]\n",
    "fact[\"cost\"] = fact[\"quantity\"] * fact[\"unit_cost\"]\n",
    "fact[\"margin\"] = fact[\"amount\"] - fact[\"cost\"]\n",
    "\n",
    "fact_sales = fact[[\n",
    "    \"order_id\", \"order_line_id\", \"date_sk\", \"product_sk\", \"customer_sk\",\n",
    "    \"quantity\", \"unit_price\", \"amount\", \"cost\", \"margin\"\n",
    "]].sort_values([\"order_id\", \"order_line_id\"])\n",
    "\n",
    "print(\"Table de faits fact_sales construite avec succès.\")\n",
    "print(f\"Nombre de lignes : {len(fact_sales)}\")\n",
    "display(fact_sales.head())\n",
    "\n",
    "print(\"\\nStructure:\")\n",
    "print(fact_sales.dtypes)\n"
   ]
  },
  {
   "cell_type": "code",
   "execution_count": 43,
   "id": "d463ee41",
   "metadata": {},
   "outputs": [
    {
     "name": "stdout",
     "output_type": "stream",
     "text": [
      "Fichiers sauvegardés avec succès :\n",
      "OK - C:\\Users\\24160\\Desktop\\TP\\data\\dim\\dim_date.csv\n",
      "OK - C:\\Users\\24160\\Desktop\\TP\\data\\dim\\dim_product.csv\n",
      "OK - C:\\Users\\24160\\Desktop\\TP\\data\\dim\\dim_customer.csv\n",
      "OK - C:\\Users\\24160\\Desktop\\TP\\data\\fact_sales.csv\n"
     ]
    }
   ],
   "source": [
    "dim_dir = out_dir / \"dim\"\n",
    "dim_dir.mkdir(parents=True, exist_ok=True)\n",
    "\n",
    "dim_date_path = dim_dir / \"dim_date.csv\"\n",
    "dim_product_path = dim_dir / \"dim_product.csv\"\n",
    "dim_customer_path = dim_dir / \"dim_customer.csv\"\n",
    "\n",
    "dim_date.to_csv(dim_date_path, index=False)\n",
    "dim_product[[\n",
    "    \"product_sk\", \"product_id\", \"product_name\", \"category\", \"brand\",\n",
    "    \"unit_price\", \"unit_cost\"\n",
    "]].to_csv(dim_product_path, index=False)\n",
    "dim_customer[[\n",
    "    \"customer_sk\", \"customer_id\", \"name\", \"email\", \"country\"\n",
    "]].to_csv(dim_customer_path, index=False)\n",
    "\n",
    "fact_path = out_dir / \"fact_sales.csv\"\n",
    "fact_sales.to_csv(fact_path, index=False)\n",
    "\n",
    "print(\"Fichiers sauvegardés avec succès :\")\n",
    "for path in [dim_date_path, dim_product_path, dim_customer_path, fact_path]:\n",
    "    status = \"OK\" if path.exists() else \"ERREUR\"\n",
    "    print(f\"{status} - {path.resolve()}\")\n"
   ]
  },
  {
   "cell_type": "markdown",
   "id": "7a1ecfe2",
   "metadata": {},
   "source": [
    "### Agrégations : ventes mensuelles, top 10 produits"
   ]
  },
  {
   "cell_type": "code",
   "execution_count": 44,
   "id": "5b48b0fe",
   "metadata": {},
   "outputs": [],
   "source": [
    "sales_by_month = (\n",
    "    fact_sales\n",
    "    .merge(dim_date[[\"date_sk\", \"month\", \"year\"]], on=\"date_sk\")\n",
    "    .groupby([\"year\", \"month\"], as_index=False)[\"amount\"]\n",
    "    .sum()\n",
    "    .sort_values([\"year\", \"month\"])\n",
    ")\n",
    "\n",
    "top_products = (\n",
    "    fact_sales\n",
    "    .merge(dim_product[[\"product_sk\", \"product_name\"]], on=\"product_sk\")\n",
    "    .groupby([\"product_sk\", \"product_name\"], as_index=False)[\"amount\"]\n",
    "    .sum()\n",
    "    .sort_values(\"amount\", ascending=False)\n",
    "    .head(10)\n",
    ")\n"
   ]
  },
  {
   "cell_type": "code",
   "execution_count": 45,
   "id": "17340493",
   "metadata": {},
   "outputs": [
    {
     "name": "stdout",
     "output_type": "stream",
     "text": [
      "Ventes mensuelles :\n",
      "   year  month     amount\n",
      "0  2025      1  124990.29\n",
      "1  2025      2  101977.92\n",
      "2  2025      3  126423.63\n",
      "3  2025      4  131557.13\n",
      "4  2025      5  130404.35\n",
      "\n",
      "Structure :\n",
      "year        int32\n",
      "month       int32\n",
      "amount    float64\n",
      "dtype: object\n",
      "\n",
      "Top 10 produits par chiffre d'affaires :\n",
      "    product_sk product_name    amount\n",
      "30          31      Item 31  42185.78\n",
      "16          17      Item 17  39453.26\n",
      "53          54      Item 54  37151.40\n",
      "39          40      Item 40  35635.23\n",
      "58          59      Item 59  35453.88\n",
      "\n",
      "Structure :\n",
      "product_sk        int64\n",
      "product_name     object\n",
      "amount          float64\n",
      "dtype: object\n"
     ]
    }
   ],
   "source": [
    "print(\"Ventes mensuelles :\")\n",
    "print(sales_by_month.head())\n",
    "\n",
    "print(\"\\nStructure :\")\n",
    "print(sales_by_month.dtypes)\n",
    "\n",
    "\n",
    "print(\"\\nTop 10 produits par chiffre d'affaires :\")\n",
    "print(top_products.head())\n",
    "\n",
    "print(\"\\nStructure :\")\n",
    "print(top_products.dtypes)\n"
   ]
  },
  {
   "cell_type": "markdown",
   "id": "66e33a74",
   "metadata": {},
   "source": [
    "### Graphique : chiffre d’affaires mensuel (matplotlib)"
   ]
  },
  {
   "cell_type": "code",
   "execution_count": 46,
   "id": "50b90803",
   "metadata": {},
   "outputs": [
    {
     "data": {
      "image/png": "[encoded data removed]",
      "text/plain": [
       "<Figure size 1000x500 with 1 Axes>"
      ]
     },
     "metadata": {},
     "output_type": "display_data"
    }
   ],
   "source": [
    "import matplotlib.pyplot as plt\n",
    "from itertools import islice\n",
    "from pathlib import Path\n",
    "\n",
    "output_dir = out_dir / \"output\"\n",
    "output_dir.mkdir(parents=True, exist_ok=True)\n",
    "\n",
    "x = range(len(sales_by_month))\n",
    "labels = [f\"{int(y)}-{int(m):02d}\" for y, m in zip(sales_by_month[\"year\"], sales_by_month[\"month\"])]\n",
    "\n",
    "plt.figure(figsize=(10, 5))\n",
    "plt.plot(x, sales_by_month[\"amount\"], marker=\"o\")\n",
    "plt.title(\"Chiffre d’affaires mensuel (exemple)\")\n",
    "plt.xlabel(\"Mois\")\n",
    "plt.ylabel(\"Montant\")\n",
    "\n",
    "step = max(1, len(x) // 10)\n",
    "plt.xticks(\n",
    "    ticks=list(islice(x, 0, len(x), step)),\n",
    "    labels=list(islice(labels, 0, len(labels), step)),\n",
    "    rotation=45,\n",
    "    ha=\"right\"\n",
    ")\n",
    "\n",
    "plt.tight_layout()\n",
    "plt.savefig(output_dir / \"monthly_sales.png\")\n",
    "plt.show()\n",
    "\n"
   ]
  },
  {
   "cell_type": "markdown",
   "id": "f5d3b56a",
   "metadata": {},
   "source": [
    "### TP : exercices proposés"
   ]
  },
  {
   "cell_type": "markdown",
   "id": "220a7ad1",
   "metadata": {},
   "source": [
    "##### 1. Ajouter une dimension Promotion et lier au fait."
   ]
  },
  {
   "cell_type": "code",
   "execution_count": 47,
   "id": "86e2225c",
   "metadata": {},
   "outputs": [
    {
     "name": "stdout",
     "output_type": "stream",
     "text": [
      "dim_promotion\n",
      "   promotion_sk promotion_name  discount_rate\n",
      "0             0    Promotion 1           0.00\n",
      "1             1    Promotion 2           0.10\n",
      "2             2    Promotion 3           0.15\n",
      "3             3    Promotion 4           0.20\n",
      "4             4    Promotion 5           0.25\n"
     ]
    }
   ],
   "source": [
    "promotion_names = [f\"Promotion {i}\" for i in range(1, 6)]\n",
    "\n",
    "dim_promotion = pd.DataFrame({\n",
    "    \"promotion_sk\": range(len(promotion_names)),\n",
    "    \"promotion_name\": promotion_names,\n",
    "    \"discount_rate\": [0.0, 0.10, 0.15, 0.20, 0.25]\n",
    "})\n",
    "\n",
    "print(\"dim_promotion\")\n",
    "print(dim_promotion)\n",
    "\n"
   ]
  },
  {
   "cell_type": "code",
   "execution_count": 48,
   "id": "a73e734f",
   "metadata": {},
   "outputs": [
    {
     "name": "stdout",
     "output_type": "stream",
     "text": [
      "dim_promotion.csv sauvegardé : c:\\Users\\24160\\Desktop\\TP\\data\\dim\\dim_promotion.csv\n"
     ]
    }
   ],
   "source": [
    "dim_promotion_path = dim_dir / \"dim_promotion.csv\"\n",
    "dim_promotion.to_csv(dim_promotion_path, index=False)\n",
    "print(\"dim_promotion.csv sauvegardé :\", dim_promotion_path)"
   ]
  },
  {
   "cell_type": "code",
   "execution_count": 49,
   "id": "04782315",
   "metadata": {},
   "outputs": [
    {
     "name": "stdout",
     "output_type": "stream",
     "text": [
      "fact_sales avec promotion_sk:\n",
      "      order_line_id  product_sk  promotion_sk\n",
      "1835           1836           8             1\n",
      "1961           1962          38             1\n",
      "1007           1008           7             3\n",
      "1778           1779          54             3\n",
      "928             929          20             1\n"
     ]
    }
   ],
   "source": [
    "fact_sales[\"promotion_sk\"] = rng.choice(dim_promotion[\"promotion_sk\"], size=len(fact_sales))\n",
    "\n",
    "print(\"fact_sales avec promotion_sk:\")\n",
    "print(fact_sales[[\"order_line_id\", \"product_sk\", \"promotion_sk\"]].head())\n"
   ]
  },
  {
   "cell_type": "code",
   "execution_count": 50,
   "id": "665c944f",
   "metadata": {},
   "outputs": [
    {
     "name": "stdout",
     "output_type": "stream",
     "text": [
      "Aperçu de la jointure fact_sales + dim_promotion :\n",
      "   order_line_id  product_sk promotion_name  discount_rate\n",
      "0           1836           8    Promotion 2            0.1\n",
      "1           1962          38    Promotion 2            0.1\n",
      "2           1008           7    Promotion 4            0.2\n",
      "3           1779          54    Promotion 4            0.2\n",
      "4            929          20    Promotion 2            0.1\n",
      "Fichier sauvegardé : C:\\Users\\24160\\Desktop\\TP\\data\\fact\\fact_sales_with_promotion.csv\n"
     ]
    }
   ],
   "source": [
    "fact_sales_with_promo = fact_sales.merge(dim_promotion, on=\"promotion_sk\")\n",
    "\n",
    "print(\"Aperçu de la jointure fact_sales + dim_promotion :\")\n",
    "print(fact_sales_with_promo[[\"order_line_id\", \"product_sk\", \"promotion_name\", \"discount_rate\"]].head())\n",
    "\n",
    "fact_sales_with_promo_path = fact_dir / \"fact_sales_with_promotion.csv\"\n",
    "fact_sales_with_promo.to_csv(fact_sales_with_promo_path, index=False)\n",
    "\n",
    "if fact_sales_with_promo_path.exists():\n",
    "    print(\"Fichier sauvegardé :\", fact_sales_with_promo_path.resolve())\n",
    "else:\n",
    "    print(\"Erreur : fichier non sauvegardé.\")\n",
    "\n"
   ]
  },
  {
   "cell_type": "markdown",
   "id": "bf2931f4",
   "metadata": {},
   "source": [
    "##### 2. Créer une table fact_inventory (stock journalier) et comparer CA vs stock."
   ]
  },
  {
   "cell_type": "code",
   "execution_count": 51,
   "id": "5b482b08",
   "metadata": {},
   "outputs": [
    {
     "name": "stdout",
     "output_type": "stream",
     "text": [
      "Aperçu de la table fact_inventory :\n",
      "        date  product_sk  stock\n",
      "0 2025-01-01           1     63\n",
      "1 2025-01-01           2     60\n",
      "2 2025-01-01           3     82\n",
      "3 2025-01-01           4     56\n",
      "4 2025-01-01           5     67\n",
      "Nombre de lignes : 16380\n"
     ]
    }
   ],
   "source": [
    "product_ids = dim_product[\"product_sk\"].unique()\n",
    "dates = dim_date[\"date\"].unique()\n",
    "\n",
    "inventory_data = []\n",
    "\n",
    "for date in dates:\n",
    "    for product_id in product_ids:\n",
    "        stock = rng.integers(20, 100)  \n",
    "        inventory_data.append({\n",
    "            \"date\": date,\n",
    "            \"product_sk\": product_id,\n",
    "            \"stock\": stock\n",
    "        })\n",
    "\n",
    "fact_inventory = pd.DataFrame(inventory_data)\n",
    "\n",
    "print(\"Aperçu de la table fact_inventory :\")\n",
    "print(fact_inventory.head())\n",
    "print(\"Nombre de lignes :\", len(fact_inventory))\n"
   ]
  },
  {
   "cell_type": "code",
   "execution_count": 52,
   "id": "e3880879",
   "metadata": {},
   "outputs": [
    {
     "name": "stdout",
     "output_type": "stream",
     "text": [
      "\n",
      "Aperçu comparaison CA vs Stock :\n",
      "        date  product_sk   amount  stock\n",
      "0 2025-01-01           1   717.56     63\n",
      "1 2025-01-01           2   595.38     60\n",
      "2 2025-01-01          10   360.84     82\n",
      "3 2025-01-01          13   357.02     20\n",
      "4 2025-01-01          14   552.95     63\n",
      "5 2025-01-01          24   879.00     41\n",
      "6 2025-01-01          49   407.88     58\n",
      "7 2025-01-02          15   906.85     54\n",
      "8 2025-01-02          36  1639.60     87\n",
      "9 2025-01-02          51   188.74     32\n"
     ]
    }
   ],
   "source": [
    "sales_by_product_date = fact_sales.groupby([\"date_sk\", \"product_sk\"], as_index=False)[\"amount\"].sum()\n",
    "\n",
    "comparison_df = (\n",
    "    sales_by_product_date\n",
    "    .merge(dim_date[[\"date_sk\", \"date\"]], on=\"date_sk\")\n",
    "    .merge(fact_inventory, on=[\"date\", \"product_sk\"], how=\"left\")\n",
    ")\n",
    "\n",
    "print(\"\\nAperçu comparaison CA vs Stock :\")\n",
    "print(comparison_df[[\"date\", \"product_sk\", \"amount\", \"stock\"]].head(10))\n"
   ]
  },
  {
   "cell_type": "code",
   "execution_count": 53,
   "id": "3361ef36",
   "metadata": {},
   "outputs": [
    {
     "name": "stdout",
     "output_type": "stream",
     "text": [
      "\n",
      "fichier fact_inventory.csv sauvegardé : c:\\Users\\24160\\Desktop\\TP\\data\\fact\\fact_inventory.csv\n"
     ]
    }
   ],
   "source": [
    "fact_inventory_path = fact_dir / \"fact_inventory.csv\"\n",
    "fact_inventory.to_csv(fact_inventory_path, index=False)\n",
    "\n",
    "print(\"\\nfichier fact_inventory.csv sauvegardé :\", fact_inventory_path)\n"
   ]
  },
  {
   "cell_type": "markdown",
   "id": "fb7d7740",
   "metadata": {},
   "source": [
    "##### 3. Mettre en place une dimension SCD2 sur dim_customer (valid_from/to, is_current)."
   ]
  },
  {
   "cell_type": "code",
   "execution_count": 54,
   "id": "a728c389",
   "metadata": {},
   "outputs": [
    {
     "name": "stdout",
     "output_type": "stream",
     "text": [
      "Table dim_customer SCD2 initialisée :\n",
      "   customer_id    name              email country  customer_sk valid_from  \\\n",
      "0            1  Cust 1  user1@example.com      FR            1 2025-01-01   \n",
      "1            2  Cust 2  user2@example.com      UK            2 2025-01-01   \n",
      "2            3  Cust 3  user3@example.com      IT            3 2025-01-01   \n",
      "\n",
      "    valid_to  is_current  \n",
      "0 9999-12-31        True  \n",
      "1 9999-12-31        True  \n",
      "2 9999-12-31        True  \n"
     ]
    }
   ],
   "source": [
    "from datetime import datetime\n",
    "\n",
    "now = pd.Timestamp(\"2025-01-01\") \n",
    "max_date = pd.Timestamp(\"9999-12-31\")\n",
    "\n",
    "dim_customer_scd2 = dim_customer.assign(\n",
    "    valid_from=now,\n",
    "    valid_to=max_date,\n",
    "    is_current=True\n",
    ")\n",
    "\n",
    "print(\"Table dim_customer SCD2 initialisée :\")\n",
    "print(dim_customer_scd2.head(3))\n"
   ]
  },
  {
   "cell_type": "code",
   "execution_count": 55,
   "id": "1b6d1586",
   "metadata": {},
   "outputs": [
    {
     "name": "stdout",
     "output_type": "stream",
     "text": [
      "Exemple de mise à jour SCD2 :\n",
      "     customer_id      name                email country  customer_sk  \\\n",
      "0              1    Cust 1    user1@example.com      FR            1   \n",
      "120            1    Cust 1    user1@example.com      US            1   \n",
      "121            9    Cust 9    user9@example.com      US            9   \n",
      "8              9    Cust 9    user9@example.com      DE            9   \n",
      "11            12   Cust 12   user12@example.com      US           12   \n",
      "122           12   Cust 12   user12@example.com      US           12   \n",
      "123           19   Cust 19   user19@example.com      US           19   \n",
      "18            19   Cust 19   user19@example.com      US           19   \n",
      "19            20   Cust 20   user20@example.com      ES           20   \n",
      "124           20   Cust 20   user20@example.com      US           20   \n",
      "125           23   Cust 23   user23@example.com      US           23   \n",
      "22            23   Cust 23   user23@example.com      DE           23   \n",
      "26            27   Cust 27   user27@example.com      ES           27   \n",
      "126           27   Cust 27   user27@example.com      US           27   \n",
      "127           33   Cust 33   user33@example.com      US           33   \n",
      "32            33   Cust 33   user33@example.com      FR           33   \n",
      "128           35   Cust 35   user35@example.com      US           35   \n",
      "34            35   Cust 35   user35@example.com      US           35   \n",
      "49            50   Cust 50   user50@example.com      UK           50   \n",
      "129           50   Cust 50   user50@example.com      US           50   \n",
      "130           52   Cust 52   user52@example.com      US           52   \n",
      "51            52   Cust 52   user52@example.com      DE           52   \n",
      "56            57   Cust 57   user57@example.com      IT           57   \n",
      "131           57   Cust 57   user57@example.com      US           57   \n",
      "64            65   Cust 65   user65@example.com      ES           65   \n",
      "132           65   Cust 65   user65@example.com      US           65   \n",
      "133           67   Cust 67   user67@example.com      US           67   \n",
      "66            67   Cust 67   user67@example.com      US           67   \n",
      "69            70   Cust 70   user70@example.com      ES           70   \n",
      "134           70   Cust 70   user70@example.com      US           70   \n",
      "135           87   Cust 87   user87@example.com      US           87   \n",
      "86            87   Cust 87   user87@example.com      FR           87   \n",
      "136           93   Cust 93   user93@example.com      US           93   \n",
      "92            93   Cust 93   user93@example.com      US           93   \n",
      "102          103  Cust 103  user103@example.com      UK          103   \n",
      "137          103  Cust 103  user103@example.com      US          103   \n",
      "138          104  Cust 104  user104@example.com      US          104   \n",
      "103          104  Cust 104  user104@example.com      FR          104   \n",
      "116          117  Cust 117  user117@example.com      FR          117   \n",
      "139          117  Cust 117  user117@example.com      US          117   \n",
      "\n",
      "    valid_from   valid_to  is_current  \n",
      "0   2025-01-01 2025-01-01       False  \n",
      "120 2025-01-02 9999-12-31        True  \n",
      "121 2025-01-02 9999-12-31        True  \n",
      "8   2025-01-01 2025-01-01       False  \n",
      "11  2025-01-01 2025-01-01       False  \n",
      "122 2025-01-02 9999-12-31        True  \n",
      "123 2025-01-02 9999-12-31        True  \n",
      "18  2025-01-01 2025-01-01       False  \n",
      "19  2025-01-01 2025-01-01       False  \n",
      "124 2025-01-02 9999-12-31        True  \n",
      "125 2025-01-02 9999-12-31        True  \n",
      "22  2025-01-01 2025-01-01       False  \n",
      "26  2025-01-01 2025-01-01       False  \n",
      "126 2025-01-02 9999-12-31        True  \n",
      "127 2025-01-02 9999-12-31        True  \n",
      "32  2025-01-01 2025-01-01       False  \n",
      "128 2025-01-02 9999-12-31        True  \n",
      "34  2025-01-01 2025-01-01       False  \n",
      "49  2025-01-01 2025-01-01       False  \n",
      "129 2025-01-02 9999-12-31        True  \n",
      "130 2025-01-02 9999-12-31        True  \n",
      "51  2025-01-01 2025-01-01       False  \n",
      "56  2025-01-01 2025-01-01       False  \n",
      "131 2025-01-02 9999-12-31        True  \n",
      "64  2025-01-01 2025-01-01       False  \n",
      "132 2025-01-02 9999-12-31        True  \n",
      "133 2025-01-02 9999-12-31        True  \n",
      "66  2025-01-01 2025-01-01       False  \n",
      "69  2025-01-01 2025-01-01       False  \n",
      "134 2025-01-02 9999-12-31        True  \n",
      "135 2025-01-02 9999-12-31        True  \n",
      "86  2025-01-01 2025-01-01       False  \n",
      "136 2025-01-02 9999-12-31        True  \n",
      "92  2025-01-01 2025-01-01       False  \n",
      "102 2025-01-01 2025-01-01       False  \n",
      "137 2025-01-02 9999-12-31        True  \n",
      "138 2025-01-02 9999-12-31        True  \n",
      "103 2025-01-01 2025-01-01       False  \n",
      "116 2025-01-01 2025-01-01       False  \n",
      "139 2025-01-02 9999-12-31        True  \n"
     ]
    }
   ],
   "source": [
    "customers_to_update = rng.choice(dim_customer[\"customer_id\"], 20, replace=False)\n",
    "\n",
    "dim_customer_scd2.loc[\n",
    "    dim_customer_scd2[\"customer_id\"].isin(customers_to_update),\n",
    "    [\"valid_to\", \"is_current\"]\n",
    "] = [now, False]\n",
    "\n",
    "updated_customers = dim_customer_scd2[\n",
    "    dim_customer_scd2[\"customer_id\"].isin(customers_to_update)\n",
    "].copy()\n",
    "updated_customers[\"country\"] = \"US\"\n",
    "updated_customers[\"valid_from\"] = now + pd.Timedelta(days=1)\n",
    "updated_customers[\"valid_to\"] = max_date\n",
    "updated_customers[\"is_current\"] = True\n",
    "\n",
    "dim_customer_scd2 = pd.concat([dim_customer_scd2, updated_customers], ignore_index=True)\n",
    "\n",
    "print(\"Exemple de mise à jour SCD2 :\")\n",
    "print(dim_customer_scd2[dim_customer_scd2[\"customer_id\"].isin(customers_to_update)].sort_values(\"customer_id\"))\n"
   ]
  },
  {
   "cell_type": "code",
   "execution_count": 56,
   "id": "54614d2c",
   "metadata": {},
   "outputs": [
    {
     "name": "stdout",
     "output_type": "stream",
     "text": [
      "Fichier dim_customer_scd2.csv sauvegardé : c:\\Users\\24160\\Desktop\\TP\\data\\dim\\dim_customer_scd2.csv\n"
     ]
    }
   ],
   "source": [
    "dim_customer_scd2_path = dim_dir / \"dim_customer_scd2.csv\"\n",
    "dim_customer_scd2.to_csv(dim_customer_scd2_path, index=False)\n",
    "\n",
    "print(\"Fichier dim_customer_scd2.csv sauvegardé :\", dim_customer_scd2_path)\n"
   ]
  },
  {
   "cell_type": "markdown",
   "id": "02903ee9",
   "metadata": {},
   "source": [
    "##### 4. Construire une vue matérialisée des ventes hebdomadaires."
   ]
  },
  {
   "cell_type": "code",
   "execution_count": 57,
   "id": "4a58e58e",
   "metadata": {},
   "outputs": [],
   "source": [
    "sales_with_week = fact_sales.merge(dim_date[[\"date_sk\", \"year\", \"week\"]], on=\"date_sk\")\n"
   ]
  },
  {
   "cell_type": "code",
   "execution_count": 58,
   "id": "c1f4654e",
   "metadata": {},
   "outputs": [],
   "source": [
    "weekly_sales = (\n",
    "    sales_with_week\n",
    "    .groupby([\"year\", \"week\"], as_index=False)[\"amount\"]\n",
    "    .sum()\n",
    "    .sort_values([\"year\", \"week\"])\n",
    ")\n"
   ]
  },
  {
   "cell_type": "code",
   "execution_count": 59,
   "id": "6a644be7",
   "metadata": {},
   "outputs": [
    {
     "name": "stdout",
     "output_type": "stream",
     "text": [
      "Aperçu des ventes hebdomadaires :\n",
      "   year  week    amount\n",
      "0  2025     1  19420.91\n",
      "1  2025     2  25056.32\n",
      "2  2025     3  31635.13\n",
      "3  2025     4  28536.92\n",
      "4  2025     5  23722.91\n"
     ]
    }
   ],
   "source": [
    "print(\"Aperçu des ventes hebdomadaires :\")\n",
    "print(weekly_sales.head())\n"
   ]
  },
  {
   "cell_type": "code",
   "execution_count": 60,
   "id": "eccb2533",
   "metadata": {},
   "outputs": [
    {
     "name": "stdout",
     "output_type": "stream",
     "text": [
      "weekly_sales.csv sauvegardé : c:\\Users\\24160\\Desktop\\TP\\data\\fact\\weekly_sales.csv\n"
     ]
    }
   ],
   "source": [
    "weekly_sales_path = fact_dir / \"weekly_sales.csv\"\n",
    "weekly_sales.to_csv(weekly_sales_path, index=False)\n",
    "\n",
    "print(\"weekly_sales.csv sauvegardé :\", weekly_sales_path)"
   ]
  },
  {
   "cell_type": "markdown",
   "id": "d42666a9",
   "metadata": {},
   "source": [
    "##### 5. Ajouter des règles DQ (emails valides, valeurs non nulles) et un rapport d’anomalies"
   ]
  },
  {
   "cell_type": "code",
   "execution_count": 61,
   "id": "8ca977c6",
   "metadata": {},
   "outputs": [],
   "source": [
    "import re\n",
    "\n",
    "def is_valid_email(email):\n",
    "    return bool(re.match(r\"^[^@]+@[^@]+\\.[^@]+$\", str(email)))\n",
    "\n",
    "dq_report = dim_customer.copy()\n",
    "\n",
    "dq_report[\"email_valid\"] = dq_report[\"email\"].apply(is_valid_email)\n",
    "dq_report[\"name_not_null\"] = dq_report[\"name\"].notnull()\n",
    "dq_report[\"email_not_null\"] = dq_report[\"email\"].notnull()\n",
    "dq_report[\"country_not_null\"] = dq_report[\"country\"].notnull()\n"
   ]
  },
  {
   "cell_type": "code",
   "execution_count": 62,
   "id": "2cc2f312",
   "metadata": {},
   "outputs": [],
   "source": [
    "dq_report[\"is_anomaly\"] = ~(\n",
    "    dq_report[\"email_valid\"] &\n",
    "    dq_report[\"name_not_null\"] &\n",
    "    dq_report[\"email_not_null\"] &\n",
    "    dq_report[\"country_not_null\"]\n",
    ")\n"
   ]
  },
  {
   "cell_type": "code",
   "execution_count": 63,
   "id": "cf71a9eb",
   "metadata": {},
   "outputs": [
    {
     "name": "stdout",
     "output_type": "stream",
     "text": [
      "Aperçu des anomalies DQ détectées :\n",
      "Empty DataFrame\n",
      "Columns: [customer_id, name, email, country, customer_sk, email_valid, name_not_null, email_not_null, country_not_null, is_anomaly]\n",
      "Index: []\n",
      "anomalies.csv sauvegardé : C:\\Users\\24160\\Desktop\\TP\\data\\anomalies.csv\n"
     ]
    }
   ],
   "source": [
    "print(\"Aperçu des anomalies DQ détectées :\")\n",
    "print(dq_report[dq_report[\"is_anomaly\"]].head())\n",
    "\n",
    "dq_path = out_dir / \"anomalies.csv\"\n",
    "dq_report[dq_report[\"is_anomaly\"]].to_csv(dq_path, index=False)\n",
    "\n",
    "if dq_path.exists():\n",
    "    print(\"anomalies.csv sauvegardé :\", dq_path.resolve())\n",
    "else:\n",
    "    print(\"Erreur : anomalies.csv non sauvegardé.\")\n"
   ]
  },
  {
   "cell_type": "markdown",
   "id": "144c28e7",
   "metadata": {},
   "source": [
    "### Exemple flocon : dimension Géographie"
   ]
  },
  {
   "cell_type": "code",
   "execution_count": 75,
   "id": "cd7a9f03",
   "metadata": {},
   "outputs": [
    {
     "name": "stdout",
     "output_type": "stream",
     "text": [
      "Fichiers géographiques sauvegardés dans : C:\\Users\\24160\\Desktop\\TP\\data\\dim\n"
     ]
    }
   ],
   "source": [
    "import pandas as pd\n",
    "from pathlib import Path\n",
    "\n",
    "project_root = Path.cwd().parent\n",
    "dim_dir = project_root / \"data\" / \"dim\"\n",
    "dim_dir.mkdir(parents=True, exist_ok=True)\n",
    "\n",
    "dim_pays = pd.DataFrame({\n",
    "    \"id_pays\": [1, 2],\n",
    "    \"pays\": [\"France\", \"Allemagne\"],\n",
    "    \"code_iso2\": [\"FR\", \"DE\"]\n",
    "})\n",
    "dim_pays.to_csv(dim_dir / \"dim_pays.csv\", index=False)\n",
    "\n",
    "dim_region = pd.DataFrame({\n",
    "    \"id_region\": [10, 20],\n",
    "    \"region\": [\"Île-de-France\", \"Bavière\"],\n",
    "    \"id_pays\": [1, 2]\n",
    "})\n",
    "dim_region.to_csv(dim_dir / \"dim_region.csv\", index=False)\n",
    "\n",
    "dim_ville = pd.DataFrame({\n",
    "    \"id_ville\": [100, 200],\n",
    "    \"ville\": [\"Paris\", \"Munich\"],\n",
    "    \"id_region\": [10, 20]\n",
    "})\n",
    "dim_ville.to_csv(dim_dir / \"dim_ville.csv\", index=False)\n",
    "\n",
    "dim_magasin = pd.DataFrame({\n",
    "    \"sk_magasin\": [1, 2, 3],\n",
    "    \"id_ville\": [100, 100, 200],\n",
    "    \"nom_magasin\": [\"Magasin République\", \"Magasin Bastille\", \"Magasin Hauptplatz\"],\n",
    "    \"type_magasin\": [\"Supermarché\", \"Hypermarché\", \"Supérette\"]\n",
    "})\n",
    "dim_magasin.to_csv(dim_dir / \"dim_magasin.csv\", index=False)\n",
    "\n",
    "print(\"Fichiers géographiques sauvegardés dans :\", dim_dir.resolve())\n",
    "\n"
   ]
  },
  {
   "cell_type": "code",
   "execution_count": 76,
   "id": "63231d5f",
   "metadata": {},
   "outputs": [
    {
     "name": "stdout",
     "output_type": "stream",
     "text": [
      "Nouvelle base DuckDB géographique créée : C:\\Users\\24160\\Desktop\\TP\\geo_dw.duckdb\n"
     ]
    }
   ],
   "source": [
    "import duckdb\n",
    "from pathlib import Path\n",
    "\n",
    "project_root = Path.cwd().parent\n",
    "geo_db_path = project_root / \"geo_dw.duckdb\"\n",
    "conn = duckdb.connect(geo_db_path)\n",
    "\n",
    "print(\"Nouvelle base DuckDB géographique créée :\", geo_db_path.resolve())\n"
   ]
  },
  {
   "cell_type": "code",
   "execution_count": 77,
   "id": "514ef922",
   "metadata": {},
   "outputs": [
    {
     "name": "stdout",
     "output_type": "stream",
     "text": [
      "Toutes les tables géographiques ont été importées avec succès dans geo_dw.duckdb\n"
     ]
    }
   ],
   "source": [
    "pays_path = dim_dir / \"dim_pays.csv\"\n",
    "region_path = dim_dir / \"dim_region.csv\"\n",
    "ville_path = dim_dir / \"dim_ville.csv\"\n",
    "magasin_path = dim_dir / \"dim_magasin.csv\"\n",
    "\n",
    "conn.execute(f\"\"\"\n",
    "    CREATE TABLE dim_pays AS\n",
    "    SELECT * FROM read_csv_auto('{pays_path.as_posix()}')\n",
    "\"\"\")\n",
    "conn.execute(f\"\"\"\n",
    "    CREATE TABLE dim_region AS\n",
    "    SELECT * FROM read_csv_auto('{region_path.as_posix()}')\n",
    "\"\"\")\n",
    "conn.execute(f\"\"\"\n",
    "    CREATE TABLE dim_ville AS\n",
    "    SELECT * FROM read_csv_auto('{ville_path.as_posix()}')\n",
    "\"\"\")\n",
    "conn.execute(f\"\"\"\n",
    "    CREATE TABLE dim_magasin AS\n",
    "    SELECT * FROM read_csv_auto('{magasin_path.as_posix()}')\n",
    "\"\"\")\n",
    "\n",
    "print(\"Toutes les tables géographiques ont été importées avec succès dans geo_dw.duckdb\")"
   ]
  },
  {
   "cell_type": "code",
   "execution_count": 79,
   "id": "a535263f",
   "metadata": {},
   "outputs": [
    {
     "name": "stdout",
     "output_type": "stream",
     "text": [
      "Jointure complète magasin → ville → région → pays :\n",
      "   sk_magasin         nom_magasin type_magasin   ville         region  \\\n",
      "0           1  Magasin République  Supermarché   Paris  Île-de-France   \n",
      "1           2    Magasin Bastille  Hypermarché   Paris  Île-de-France   \n",
      "2           3  Magasin Hauptplatz    Supérette  Munich        Bavière   \n",
      "\n",
      "        pays code_iso2  \n",
      "0     France        FR  \n",
      "1     France        FR  \n",
      "2  Allemagne        DE  \n"
     ]
    }
   ],
   "source": [
    "df = conn.execute(\"\"\"\n",
    "    SELECT \n",
    "        m.sk_magasin,\n",
    "        m.nom_magasin,\n",
    "        m.type_magasin,\n",
    "        v.ville,\n",
    "        r.region,\n",
    "        p.pays,\n",
    "        p.code_iso2\n",
    "    FROM dim_magasin m\n",
    "    JOIN dim_ville v ON m.id_ville = v.id_ville\n",
    "    JOIN dim_region r ON v.id_region = r.id_region\n",
    "    JOIN dim_pays p ON r.id_pays = p.id_pays\n",
    "\"\"\").fetchdf()\n",
    "\n",
    "print(\"Jointure complète magasin → ville → région → pays :\")\n",
    "print(df)\n"
   ]
  },
  {
   "cell_type": "code",
   "execution_count": 80,
   "id": "e287f8da",
   "metadata": {},
   "outputs": [
    {
     "name": "stdout",
     "output_type": "stream",
     "text": [
      "dim_magasin_flat.csv sauvegardé dans data/dim/\n"
     ]
    }
   ],
   "source": [
    "df.to_csv(dim_dir / \"dim_magasin_flat.csv\", index=False)\n",
    "print(\"dim_magasin_flat.csv sauvegardé dans data/dim/\")\n"
   ]
  },
  {
   "cell_type": "code",
   "execution_count": 82,
   "id": "107c428a",
   "metadata": {},
   "outputs": [
    {
     "name": "stdout",
     "output_type": "stream",
     "text": [
      "Table dim_magasin_flat créée dans geo_dw.duckdb\n"
     ]
    }
   ],
   "source": [
    "flat_path = (dim_dir / \"dim_magasin_flat.csv\").as_posix()\n",
    "\n",
    "conn.execute(f\"\"\"\n",
    "    CREATE OR REPLACE TABLE dim_magasin_flat AS\n",
    "    SELECT * FROM read_csv_auto('{flat_path}')\n",
    "\"\"\")\n",
    "\n",
    "print(\"Table dim_magasin_flat créée dans geo_dw.duckdb\")\n",
    "\n"
   ]
  }
 ],
 "metadata": {
  "kernelspec": {
   "display_name": ".venv",
   "language": "python",
   "name": "python3"
  },
  "language_info": {
   "codemirror_mode": {
    "name": "ipython",
    "version": 3
   },
   "file_extension": ".py",
   "mimetype": "text/x-python",
   "name": "python",
   "nbconvert_exporter": "python",
   "pygments_lexer": "ipython3",
   "version": "3.11.1"
  }
 },
 "nbformat": 4,
 "nbformat_minor": 5
}
